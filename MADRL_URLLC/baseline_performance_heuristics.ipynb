{
 "cells": [
  {
   "cell_type": "markdown",
   "id": "77dac3a8",
   "metadata": {},
   "source": [
    "### This notebook implements the myopic greedy and non-greedy channel allocation strategies ###\n",
    "\n",
    "#### In order to compare the LSTM-MADRL performance against baseline strategies"
   ]
  },
  {
   "cell_type": "code",
   "execution_count": 1,
   "id": "85d46465",
   "metadata": {},
   "outputs": [],
   "source": [
    "import os\n",
    "os.environ[\"KMP_DUPLICATE_LIB_OK\"]=\"TRUE\"\n",
    "\n",
    "import numpy as np\n",
    "import matplotlib.pyplot as plt\n",
    "import pickle\n",
    "import random\n",
    "from scipy.special import jn\n",
    "import pdb\n",
    "import json\n",
    "from matplotlib.animation import FuncAnimation\n",
    "from IPython.display import HTML\n",
    "from tqdm import tqdm\n",
    "from itertools import combinations\n",
    "import heapq\n",
    "import math\n",
    "#import cvxpy as cp\n",
    "from pulp import *"
   ]
  },
  {
   "cell_type": "markdown",
   "id": "a75b5f8c",
   "metadata": {},
   "source": [
    "### Myopic greedy approach ###\n",
    "#### Heuristic to find max_A min_u \\gamma_u^T.a_u, where \\gamma_u is the sum of all SINRs combined for a user u "
   ]
  },
  {
   "cell_type": "code",
   "execution_count": 2,
   "id": "04be3456",
   "metadata": {},
   "outputs": [],
   "source": [
    "N = 8 \n",
    "U = 3\n",
    "gamma_dB = np.random.uniform(-3,20,N*U)\n",
    "gamma_lin = np.power(10,gamma_dB/10)\n",
    "#plt.hist(gamma_dB)\n",
    "gamma_mat = np.reshape(gamma_lin, (N,U))\n",
    "gamma_mat  = np.array([[12.44186053, 21.88359258,  0.57038739],\n",
    "       [12.36616688, 42.32025383, 20.47811626],\n",
    "       [ 1.76466114,  7.2071601 , 29.56821724],\n",
    "       [95.14429372,  1.36205076,  2.07802469],\n",
    "       [ 1.74174898, 90.22816118,  8.34190772],\n",
    "       [ 1.1973464 ,  0.79196273,  3.01218801],\n",
    "       [69.31449097, 95.83876587,  2.95234603],\n",
    "       [27.0424422 ,  7.88011763,  2.64891699]])\n",
    "\n",
    "\n"
   ]
  },
  {
   "cell_type": "code",
   "execution_count": 3,
   "id": "1cb54f45",
   "metadata": {},
   "outputs": [],
   "source": [
    "A = np.zeros((N,U))\n",
    "#1) Initialization: allocate one resource to each user\n",
    "\n",
    "# 1a) find \\gamma_\\max,u = \\max_n \\gamma_{n,u}\n",
    "\n",
    "gamma_max_us = np.max(gamma_mat, axis = 0)\n",
    "\n",
    "# 1b) sort in ascending order\n",
    "\n",
    "gamma_max_us = np.sort(gamma_max_us)\n",
    "\n",
    "# 1c) initialize set of available resources in  R\n",
    "\n",
    "R = np.arange(N)\n",
    "\n",
    "# 1d) in order from worst to best \\gamma_\\max,u, allocate the best resource of u in \\cal R to u, \n",
    "#    remove resource from \\cal R – update the allocation vector a_u to reflect this\n",
    "\n",
    "### find the indices where the gamma_max_u is in gamma_mat \n",
    "inds = []\n",
    "resos_to_delete = [] \n",
    "for gamma_max_u in gamma_max_us:\n",
    "    ind = np.where(gamma_max_u ==  gamma_mat )\n",
    "    inds.append(ind)\n",
    "    A[ind] = 1.0\n",
    "    resos_to_delete.append(ind[0][0])\n",
    "R = np.delete(R, resos_to_delete)"
   ]
  },
  {
   "cell_type": "code",
   "execution_count": 4,
   "id": "a73f0e86",
   "metadata": {},
   "outputs": [
    {
     "name": "stdout",
     "output_type": "stream",
     "text": [
      "Final Allocation matrix for myopic greedy is:\n",
      "[[0. 0. 1.]\n",
      " [0. 0. 1.]\n",
      " [0. 0. 1.]\n",
      " [1. 0. 0.]\n",
      " [0. 0. 1.]\n",
      " [0. 0. 1.]\n",
      " [0. 1. 0.]\n",
      " [0. 0. 1.]]\n"
     ]
    }
   ],
   "source": [
    "while len(R) != 0:\n",
    "    #print(R)\n",
    "    # Allocate the remaining resources\n",
    "\n",
    "    # 2) find the worst user with current allocation: \\hat u = \\arg\\min_u \\gamma_u^T a_u\n",
    "\n",
    "    dot_prods = []\n",
    "    for u in range(U):\n",
    "        dot_prod = np.dot(gamma_mat[:,u],A[:,u])\n",
    "        dot_prods.append(dot_prod)\n",
    "\n",
    "    dot_prods = np.array(dot_prods)\n",
    "    worst_user = np.argmin(dot_prods)\n",
    "\n",
    "    # 3) find the best resource in \\cal R to \\hat u, remove resource from \\cal R – \n",
    "    #    update the allocation vector a_u to reflect this\n",
    "\n",
    "    reso_vals = []\n",
    "    for r in R: \n",
    "        reso_val = gamma_mat[r, worst_user]\n",
    "        reso_vals.append(reso_val)\n",
    "    reso_vals = np.array(reso_vals)\n",
    "    best_reso = R[np.argmax(reso_vals)]\n",
    "    A[best_reso, worst_user] = 1.0\n",
    "    #print('best_reso, worst_user',best_reso, worst_user)\n",
    "    \n",
    "    ind_to_delete = np.where(best_reso == R)[0][0]\n",
    "    #pdb.set_trace()\n",
    "    R = np.delete(R, ind_to_delete)\n",
    "    #print(R)\n",
    "print('Final Allocation matrix for myopic greedy is:')\n",
    "print(A)"
   ]
  },
  {
   "cell_type": "markdown",
   "id": "c9145564",
   "metadata": {},
   "source": [
    "Myopic non-greedy\n",
    "\n",
    "Objective Function: Minimize the total number of allocated channel resources.\n",
    "\n",
    "[ \\text{Minimize} \\quad \\sum_{n=1}^{N}\\sum_{u=1}^{U} a_{n,u} ]\n",
    "\n",
    "SINR Constraint: For each user ( u ), the sum of ( \\gamma_{n,u} \\times a_{n,u} ) over all channel resources ( n ) must be greater than the SINR threshold ( gamma_thresh_lin ).\n",
    "\n",
    "[ \\sum_{n=1}^{N} \\gamma_{n,u} \\cdot a_{n,u} \\geq gamma_thresh_lin \\quad \\text{for all} \\ u ]\n",
    "\n",
    "Channel Allocation Constraint: Each channel resource can be allocated to at most one user.\n",
    "\n",
    "[ \\sum_{u=1}^{U} a_{n,u} \\leq 1 \\quad \\text{for all} \\ n ]\n",
    "\n",
    "Relaxed Binary Constraint: ( a_{n,u} ) can take any value between 0 and 1.\n",
    "\n",
    "[ 0 \\leq a_{n,u} \\leq 1 \\quad \\text{for all} \\ n, u ]\n"
   ]
  },
  {
   "cell_type": "code",
   "execution_count": 5,
   "id": "cb9c843d",
   "metadata": {},
   "outputs": [],
   "source": [
    "N = 8\n",
    "U = 3 \n",
    "gamma = np.array([[12.44186053, 21.88359258,  0.57038739],\n",
    "       [12.36616688, 42.32025383, 20.47811626],\n",
    "       [ 1.76466114,  7.2071601 , 29.56821724],\n",
    "       [95.14429372,  1.36205076,  2.07802469],\n",
    "       [ 1.74174898, 90.22816118,  8.34190772],\n",
    "       [ 1.1973464 ,  0.79196273,  3.01218801],\n",
    "       [69.31449097, 95.83876587,  2.95234603],\n",
    "       [27.0424422 ,  7.88011763,  2.64891699]])\n",
    "\n",
    "gamma_thresh_db = 15 # db\n",
    "gamma_thresh_lin = np.power(10, gamma_thresh_db/10)"
   ]
  },
  {
   "cell_type": "code",
   "execution_count": 6,
   "id": "120935b5",
   "metadata": {},
   "outputs": [
    {
     "data": {
      "text/plain": [
       "1"
      ]
     },
     "execution_count": 6,
     "metadata": {},
     "output_type": "execute_result"
    }
   ],
   "source": [
    "# Define the problem\n",
    "prob = LpProblem(\"Channel_Allocation\", LpMinimize)\n",
    "\n",
    "# Create variables (Relax the binary constraint for the LP formulation)\n",
    "a = LpVariable.dicts(\"a\", (range(N), range(U)), 0, 1, LpInteger)\n",
    "\n",
    "# Objective Function\n",
    "prob += lpSum(a[n][u] for n in range(N) for u in range(U))\n",
    "\n",
    "# SINR Constraints\n",
    "for u in range(U):\n",
    "    prob += lpSum(gamma[n][u] * a[n][u] for n in range(N)) >= gamma_thresh_lin, f\"SINR_user_{u}\"\n",
    "\n",
    "# Channel Allocation Constraints\n",
    "for n in range(N):\n",
    "    prob += lpSum(a[n][u] for u in range(U)) <= 1, f\"Channel_resource_{n}\"\n",
    "\n",
    "# Solve the problem using an MILP solver\n",
    "prob.solve()\n",
    "\n",
    "# Print the results\n",
    "#for v in prob.variables():\n",
    "    #print(v.name, \"=\", v.varValue)"
   ]
  },
  {
   "cell_type": "code",
   "execution_count": 7,
   "id": "22361578",
   "metadata": {},
   "outputs": [
    {
     "name": "stdout",
     "output_type": "stream",
     "text": [
      "The allocation matrix is:\n",
      "[[0. 0. 0.]\n",
      " [0. 0. 1.]\n",
      " [0. 0. 1.]\n",
      " [1. 0. 0.]\n",
      " [0. 0. 0.]\n",
      " [0. 0. 0.]\n",
      " [0. 1. 0.]\n",
      " [0. 0. 0.]]\n"
     ]
    }
   ],
   "source": [
    "A = np.zeros((N,U))\n",
    "for n in range(N):\n",
    "    for u in range(U):\n",
    "        # The variable names are based on how you defined them earlier\n",
    "        var = a[n][u]\n",
    "        A[n][u] = int(var.varValue)  # Convert the float results to binary integer\n",
    "print('The allocation matrix is:')\n",
    "print(A)"
   ]
  }
 ],
 "metadata": {
  "kernelspec": {
   "display_name": "Python 3 (ipykernel)",
   "language": "python",
   "name": "python3"
  },
  "language_info": {
   "codemirror_mode": {
    "name": "ipython",
    "version": 3
   },
   "file_extension": ".py",
   "mimetype": "text/x-python",
   "name": "python",
   "nbconvert_exporter": "python",
   "pygments_lexer": "ipython3",
   "version": "3.11.4"
  }
 },
 "nbformat": 4,
 "nbformat_minor": 5
}
