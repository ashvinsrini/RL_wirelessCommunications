{
 "cells": [
  {
   "cell_type": "code",
   "execution_count": 1,
   "id": "f6485ef4",
   "metadata": {},
   "outputs": [],
   "source": [
    "# main.py\n",
    "import numpy as np\n",
    "import gym\n",
    "#from DDPG_trial import DDPG\n",
    "from collections import deque\n",
    "import pdb\n",
    "import torch\n",
    "from env import env\n",
    "from LSTM import LSTMModel  \n",
    "import torch\n",
    "import torch.nn as nn\n",
    "import torch.optim as optim\n",
    "import torch.nn.functional as F\n",
    "import numpy as np\n",
    "import random\n",
    "import matplotlib.pyplot as plt\n",
    "\n",
    "import pdb \n",
    "M, N, J = 10, 4, 3\n",
    "# Replay Buffer for Experience Replay\n",
    "class ReplayBuffer:\n",
    "    def __init__(self, max_size=int(1e6)):\n",
    "        self.buffer = deque(maxlen=max_size)\n",
    "\n",
    "    def add(self, state, next_state, action, reward):\n",
    "        self.buffer.append((state, next_state, action, reward))\n",
    "\n",
    "    def sample(self, batch_size):\n",
    "        batch = random.sample(self.buffer, batch_size)\n",
    "        state, next_state, action, reward = map(np.stack, zip(*batch))\n",
    "        return (\n",
    "            torch.FloatTensor(state),\n",
    "            torch.FloatTensor(next_state),\n",
    "            torch.FloatTensor(action),\n",
    "            torch.FloatTensor(reward).unsqueeze(1),\n",
    "            #torch.FloatTensor(done).unsqueeze(1),\n",
    "        )\n",
    "\n",
    "    def size(self):\n",
    "        return len(self.buffer)\n",
    "\n",
    "###########generate random discrete matrix for actions(should ideally come from the discretization procedure)\n",
    "\n",
    "\n",
    "def generate_matrix(N, J):\n",
    "    # Initialize an NxJ matrix filled with zeros\n",
    "    matrix = np.zeros((N, J), dtype=int)\n",
    "    \n",
    "    # Ensure each column has at least one 1\n",
    "    for j in range(J):\n",
    "        # Randomly select a row to place the 1 in column j\n",
    "        while True:\n",
    "            row_index = np.random.randint(N)\n",
    "            # Place the 1 only if that row currently contains no 1\n",
    "            if np.sum(matrix[row_index]) == 0:\n",
    "                matrix[row_index, j] = 1\n",
    "                break\n",
    "    \n",
    "    # Fill remaining rows with either a single 1 or all 0s\n",
    "    for i in range(N):\n",
    "        if np.sum(matrix[i]) == 0:  # If the row is all zeros\n",
    "            if np.random.rand() > 0.5:  # 50% chance to add a 1\n",
    "                col_index = np.random.randint(J)\n",
    "                matrix[i, col_index] = 1\n",
    "    \n",
    "    return matrix\n"
   ]
  },
  {
   "cell_type": "code",
   "execution_count": 2,
   "id": "e1991eb2",
   "metadata": {},
   "outputs": [
    {
     "name": "stderr",
     "output_type": "stream",
     "text": [
      "C:\\Users\\sriniva3\\AppData\\Local\\Temp\\ipykernel_32000\\1832167845.py:16: FutureWarning: You are using `torch.load` with `weights_only=False` (the current default value), which uses the default pickle module implicitly. It is possible to construct malicious pickle data which will execute arbitrary code during unpickling (See https://github.com/pytorch/pytorch/blob/main/SECURITY.md#untrusted-models for more details). In a future release, the default value for `weights_only` will be flipped to `True`. This limits the functions that could be executed during unpickling. Arbitrary objects will no longer be allowed to be loaded via this mode unless they are explicitly allowlisted by the user via `torch.serialization.add_safe_globals`. We recommend you start setting `weights_only=True` for any use case where you don't have full control of the loaded file. Please open an issue on GitHub for any issues related to this experimental feature.\n",
      "  model.load_state_dict(torch.load('LSTM_state_dict.pth'))\n"
     ]
    },
    {
     "data": {
      "text/plain": [
       "<All keys matched successfully>"
      ]
     },
     "execution_count": 2,
     "metadata": {},
     "output_type": "execute_result"
    }
   ],
   "source": [
    "#model = torch.load('LSTM.pth')\n",
    "# Initialize the model architecture\n",
    "device = torch.device('cuda' if torch.cuda.is_available() else 'cpu')\n",
    "\n",
    "# Model parameters\n",
    "input_dim = 4\n",
    "hidden_dim = 128\n",
    "output_dim = 4\n",
    "num_layers = 1\n",
    "\n",
    "# Initialize the model, loss function and optimizer\n",
    "model = LSTMModel(input_dim, hidden_dim, output_dim, num_layers).to(device)\n",
    "#model = LSTMModel()  # Initialize your model with the required parameters\n",
    "\n",
    "# Load the saved state dictionary\n",
    "model.load_state_dict(torch.load('LSTM_state_dict.pth'))\n"
   ]
  },
  {
   "cell_type": "code",
   "execution_count": 3,
   "id": "42bdbba1",
   "metadata": {},
   "outputs": [
    {
     "name": "stderr",
     "output_type": "stream",
     "text": [
      "100%|██████████████████████████████████████████████████████████████████████████████| 1080/1080 [04:41<00:00,  3.84it/s]\n",
      "100%|████████████████████████████████████████████████████████████████████████████| 9999/9999 [00:05<00:00, 1999.00it/s]\n"
     ]
    }
   ],
   "source": [
    "Ts = 10000\n",
    "environ = env(Ts = Ts)\n",
    "alltime_fast_fading_gains = environ.fast_fading_channel_coefficients()\n",
    "TxRxds = environ.compute_TxRX()\n",
    "alltime_PathGains = environ.large_scale_fading_channel_coefficients(TxRxds)"
   ]
  },
  {
   "cell_type": "code",
   "execution_count": 4,
   "id": "c468a6b0",
   "metadata": {},
   "outputs": [],
   "source": [
    "def get_lstm_pred_SINR(ts_start, ts_end):\n",
    "    history = 10\n",
    "    SINR_nxt_lstm = np.zeros((J,N))\n",
    "    for j in range(J):\n",
    "        inp = []\n",
    "        for ts in np.arange(ts_start, ts_end):\n",
    "            SINR =  environ.get_next_state(alltime_PathGains, alltime_fast_fading_gains, ts = ts)[0]\n",
    "            inp.append(SINR[:,j])\n",
    "        inp = np.array(inp).reshape(1,history,N)\n",
    "        SINR_nxt_lstm[j,:] = model(torch.Tensor(inp)).detach().numpy()[0]\n",
    "    SINR_nxt_lstm = np.transpose(SINR_nxt_lstm)\n",
    "    return SINR_nxt_lstm\n"
   ]
  },
  {
   "cell_type": "code",
   "execution_count": 5,
   "id": "42f0d22b",
   "metadata": {},
   "outputs": [
    {
     "data": {
      "text/plain": [
       "'\\nb_prev_actions =  generate_matrix(N, J)\\nstate_lstm = get_lstm_pred_SINR(ts_start = 0, ts_end = 10)\\nstate = np.stack((np.multiply(state_lstm, b_prev_actions),b_prev_actions), axis = 0)\\nb_prsnt_actions =  generate_matrix(N, J)\\nnxt_state_lstm = get_lstm_pred_SINR(ts_start = 1, ts_end = 11)\\nnext_state = np.stack((np.multiply(nxt_state_lstm, b_prsnt_actions),b_prsnt_actions), axis = 0)\\n'"
      ]
     },
     "execution_count": 5,
     "metadata": {},
     "output_type": "execute_result"
    }
   ],
   "source": [
    "'''\n",
    "b_prev_actions =  generate_matrix(N, J)\n",
    "state_lstm = get_lstm_pred_SINR(ts_start = 0, ts_end = 10)\n",
    "state = np.stack((np.multiply(state_lstm, b_prev_actions),b_prev_actions), axis = 0)\n",
    "b_prsnt_actions =  generate_matrix(N, J)\n",
    "nxt_state_lstm = get_lstm_pred_SINR(ts_start = 1, ts_end = 11)\n",
    "next_state = np.stack((np.multiply(nxt_state_lstm, b_prsnt_actions),b_prsnt_actions), axis = 0)\n",
    "'''"
   ]
  },
  {
   "cell_type": "code",
   "execution_count": 6,
   "id": "157d7864",
   "metadata": {},
   "outputs": [],
   "source": [
    "# Actor Network\n",
    "class Actor(nn.Module):\n",
    "    def __init__(self, state_dim, action_dim, max_action):\n",
    "        super(Actor, self).__init__()\n",
    "        self.fc1 = nn.Linear(state_dim, 256)\n",
    "        self.fc2 = nn.Linear(256, 128)\n",
    "        self.fc3 = nn.Linear(128,64)\n",
    "        self.fc4 = nn.Linear(64, action_dim)\n",
    "        self.max_action = max_action\n",
    "\n",
    "    def forward(self, state):\n",
    "        x = F.relu(self.fc1(state))\n",
    "        x = F.relu(self.fc2(x))\n",
    "        x = F.relu(self.fc3(x))\n",
    "        x = torch.sigmoid(self.fc4(x))\n",
    "        return x * self.max_action\n",
    "\n",
    "# Critic Network\n",
    "class Critic(nn.Module):\n",
    "    def __init__(self, state_dim, action_dim):\n",
    "        super(Critic, self).__init__()\n",
    "        self.fc1 = nn.Linear(state_dim + action_dim, 128)\n",
    "        self.fc2 = nn.Linear(128, 64)\n",
    "        self.fc3 = nn.Linear(64, 1)\n",
    "\n",
    "    def forward(self, state, action):\n",
    "        x = torch.cat([state, action], 1)\n",
    "        x = F.relu(self.fc1(x))\n",
    "        x = F.relu(self.fc2(x))\n",
    "        q_value = self.fc3(x)\n",
    "        #pdb.set_trace()\n",
    "        return q_value"
   ]
  },
  {
   "cell_type": "code",
   "execution_count": 7,
   "id": "de839f08",
   "metadata": {},
   "outputs": [],
   "source": [
    "# DDPG Agent\n",
    "class DDPG:\n",
    "    def __init__(self, state_dim, action_dim, max_action):\n",
    "        self.actor = Actor(state_dim, action_dim, max_action).to(torch.device(\"cpu\"))\n",
    "        self.actor_target = Actor(state_dim, action_dim, max_action).to(torch.device(\"cpu\"))\n",
    "        self.actor_target.load_state_dict(self.actor.state_dict())\n",
    "        self.actor_optimizer = optim.Adam(self.actor.parameters(), lr=1e-3)\n",
    "\n",
    "        self.critic = Critic(state_dim, action_dim).to(torch.device(\"cpu\"))\n",
    "        self.critic_target = Critic(state_dim, action_dim).to(torch.device(\"cpu\"))\n",
    "        self.critic_target.load_state_dict(self.critic.state_dict())\n",
    "        self.critic_optimizer = optim.Adam(self.critic.parameters(), lr=1e-3)\n",
    "\n",
    "        self.max_action = max_action\n",
    "        self.discount = 0.99\n",
    "        self.tau = 0.005\n",
    "\n",
    "    def select_action(self, state):\n",
    "        state = torch.FloatTensor(state.reshape(1, -1)).to(torch.device(\"cpu\"))\n",
    "        action = self.actor(state).cpu().data.numpy().flatten()\n",
    "        return action\n",
    "\n",
    "    def train(self, replay_buffer, t, batch_size=64):\n",
    "        # Sample a batch of transitions from the replay buffer\n",
    "        state, next_state, action, reward = replay_buffer.sample(batch_size)\n",
    "        next_state = next_state.view(batch_size,-1)\n",
    "        state = state.view(batch_size,-1)\n",
    "        action = action.view(batch_size,-1)\n",
    "        # Compute the target Q value\n",
    "        #pdb.set_trace()\n",
    "        next_action = self.actor_target(next_state)\n",
    "        target_q = self.critic_target(next_state, next_action)\n",
    "        #target_q1, target_q2 = self.critic_target(next_state, next_action)\n",
    "        #target_q = torch.min(target_q1, target_q2)\n",
    "        if t < 256:\n",
    "            not_done = 1.0\n",
    "        else:\n",
    "            not_done = 0.0\n",
    "        #pdb.set_trace()\n",
    "        target_q = reward + not_done * self.discount * target_q.detach()\n",
    "\n",
    "        # Get current Q estimate\n",
    "        current_q = self.critic(state, action)\n",
    "        #current_q1, current_q2 = self.critic(state, action)\n",
    "        #current_q = torch.min(current_q1, current_q2)\n",
    "        # Compute critic loss\n",
    "        critic_loss = F.mse_loss(current_q, target_q)\n",
    "\n",
    "        # Optimize the critic\n",
    "        self.critic_optimizer.zero_grad()\n",
    "        critic_loss.backward()\n",
    "        self.critic_optimizer.step()\n",
    "\n",
    "        # Compute actor loss\n",
    "        actor_loss = -self.critic(state, self.actor(state)).mean()\n",
    "\n",
    "        # Optimize the actor\n",
    "        self.actor_optimizer.zero_grad()\n",
    "        actor_loss.backward()\n",
    "        self.actor_optimizer.step()\n",
    "\n",
    "        # Update the target networks\n",
    "        for param, target_param in zip(self.critic.parameters(), self.critic_target.parameters()):\n",
    "            target_param.data.copy_(self.tau * param.data + (1 - self.tau) * target_param.data)\n",
    "\n",
    "        for param, target_param in zip(self.actor.parameters(), self.actor_target.parameters()):\n",
    "            target_param.data.copy_(self.tau * param.data + (1 - self.tau) * target_param.data)"
   ]
  },
  {
   "cell_type": "code",
   "execution_count": 8,
   "id": "07dcbca1",
   "metadata": {},
   "outputs": [],
   "source": [
    "T = 256\n",
    "############# get initial states  #############\n",
    "'''\n",
    "b_prev_actions =  generate_matrix(N, J)\n",
    "state_lstm = get_lstm_pred_SINR(ts_start = 0, ts_end = 10)\n",
    "state = np.stack((np.multiply(state_lstm, b_prev_actions),b_prev_actions), axis = 0)\n",
    "b_prsnt_actions =  generate_matrix(N, J)\n",
    "nxt_state_lstm = get_lstm_pred_SINR(ts_start = 1, ts_end = 11)\n",
    "next_state = np.stack((np.multiply(nxt_state_lstm, b_prsnt_actions),b_prsnt_actions), axis = 0)\n",
    "'''\n",
    "############################################################\n",
    "state_dim = 2*N*J\n",
    "action_dim = N*J\n",
    "max_action = 1.0\n",
    "time_slots = np.arange(0,Ts)\n",
    "\n",
    "agent = DDPG(state_dim, action_dim, max_action)\n",
    "replay_buffer = ReplayBuffer()\n",
    "\n",
    "#train_agents(env, agent1, agent2, replay_buffer)\n",
    "episodes=50\n",
    "batch_size=128\n",
    "\n",
    "ts_counter = 0\n",
    "\n",
    "######## generate interactions dummy ###########\n",
    "interfers_actions = np.zeros((M-1, J, N)) # should be the actions from other agent. \n",
    "for i, m in enumerate(range(M-1)):\n",
    "    interfers_actions[i,:,:] = np.transpose(generate_matrix(N, J))"
   ]
  },
  {
   "cell_type": "code",
   "execution_count": 9,
   "id": "4174ff86",
   "metadata": {
    "scrolled": true
   },
   "outputs": [
    {
     "name": "stdout",
     "output_type": "stream",
     "text": [
      "Episode: 1, Reward: 6.055237227697403\n",
      "Episode: 2, Reward: 32.615929862336976\n",
      "Episode: 3, Reward: 29.652320381309043\n",
      "Episode: 4, Reward: 30.73192769604476\n",
      "Episode: 5, Reward: 28.728883984229913\n",
      "Episode: 6, Reward: 34.3927857755579\n",
      "Episode: 7, Reward: 30.490794441564123\n",
      "Episode: 8, Reward: 33.62446232557909\n",
      "Episode: 9, Reward: 33.16646113773066\n",
      "Episode: 10, Reward: 31.549942317189466\n",
      "Episode: 11, Reward: 33.63717042725721\n",
      "Episode: 12, Reward: 25.08095306311069\n",
      "Episode: 13, Reward: 26.766405019979146\n",
      "Episode: 14, Reward: 33.91934675710006\n",
      "Episode: 15, Reward: 33.06543544397515\n",
      "Episode: 16, Reward: 27.036545261650822\n",
      "Episode: 17, Reward: 28.414670757994955\n",
      "Episode: 18, Reward: 32.79794561687721\n",
      "Episode: 19, Reward: 31.278618534980897\n",
      "Episode: 20, Reward: 29.219766495990378\n",
      "Episode: 21, Reward: 32.90951310413503\n",
      "Episode: 22, Reward: 35.31756556848966\n",
      "Episode: 23, Reward: 29.998846083824752\n",
      "Episode: 24, Reward: 30.957425972414626\n",
      "Episode: 25, Reward: 31.965343489422416\n",
      "Episode: 26, Reward: 34.50595077336095\n",
      "Episode: 27, Reward: 32.6602143427059\n",
      "Episode: 28, Reward: 29.458275854007326\n",
      "Episode: 29, Reward: 24.711813450253725\n",
      "Episode: 30, Reward: 31.25544681857772\n",
      "Episode: 31, Reward: 30.360181982820137\n",
      "Episode: 32, Reward: 29.21566892909654\n",
      "Episode: 33, Reward: 29.54808581995905\n",
      "Episode: 34, Reward: 28.758567051855774\n",
      "Episode: 35, Reward: 30.978404230862473\n",
      "Episode: 36, Reward: 30.978025262052796\n",
      "Episode: 37, Reward: 30.872078907276702\n",
      "Episode: 38, Reward: 30.759003396683134\n",
      "Episode: 39, Reward: 33.211922697206084\n",
      "Episode: 40, Reward: 32.074997070386566\n",
      "Episode: 41, Reward: 31.98440769444773\n",
      "Episode: 42, Reward: 28.98434218676437\n",
      "Episode: 43, Reward: 30.40185089687848\n",
      "Episode: 44, Reward: 26.28598374340964\n",
      "Episode: 45, Reward: 33.19712531401597\n",
      "Episode: 46, Reward: 29.627971003446703\n",
      "Episode: 47, Reward: 33.22408682324051\n",
      "Episode: 48, Reward: 32.4263615975412\n",
      "Episode: 49, Reward: 30.982076020706263\n",
      "Episode: 50, Reward: 32.74744086355661\n"
     ]
    }
   ],
   "source": [
    "epi_rewards = []\n",
    "b_prev_actions =  generate_matrix(N, J)\n",
    "P_e = []\n",
    "for episode in range(episodes):\n",
    "        ############# get initial states  #############\n",
    "        if episode == 0:\n",
    "            state_lstm = get_lstm_pred_SINR(ts_start = 0, ts_end = 10)\n",
    "        else:\n",
    "            state_lstm = get_lstm_pred_SINR(ts_start = ts_counter, ts_end = ts_counter+10)\n",
    "        #state = np.stack((np.multiply(state_lstm, b_prev_actions),b_prev_actions), axis = 0)\n",
    "        state = np.stack((state_lstm,b_prev_actions), axis = 0)\n",
    "        #b_prsnt_actions =  generate_matrix(N, J)\n",
    "        #nxt_state_lstm = get_lstm_pred_SINR(ts_start = 1, ts_end = 11)\n",
    "        #next_state = np.stack((np.multiply(nxt_state_lstm, b_prsnt_actions),b_prsnt_actions), axis = 0)\n",
    "        ############################################################\n",
    "        episode_reward = 0\n",
    "\n",
    "        for t in range(T):\n",
    "            action = agent.select_action(np.array(state))\n",
    "            #action =  (action >= 0.5).astype(float)\n",
    "            #next_state, reward, done, _ = env.step(action)\n",
    "            nxt_state_lstm = get_lstm_pred_SINR(ts_start = ts_counter+1, ts_end = ts_counter + 11)\n",
    "            #next_state = np.stack((np.multiply(nxt_state_lstm, action.reshape(N,J)),action.reshape(N,J)), axis = 0)\n",
    "            next_state = np.stack((nxt_state_lstm,action.reshape(N,J)), axis = 0)\n",
    "            \n",
    "            \n",
    "            state = next_state\n",
    "            #reward = np.sum(environ.compute_rewards(alltime_PathGains, alltime_fast_fading_gains, ts = time_slots[ts_counter + 10],\n",
    "                                                    #b = 0, interfers_actions = interfers_actions, b_actions = b_prev_actions)[2])\n",
    "            _, p_e, reward = environ.compute_rewards(alltime_PathGains, alltime_fast_fading_gains, ts = time_slots[ts_counter + 10],\n",
    "                                                    b = 0, interfers_actions = interfers_actions, b_actions = b_prev_actions)\n",
    "            P_e.append(p_e)\n",
    "            reward = np.sum(reward)\n",
    "            #print(t, p_e, reward)\n",
    "            episode_reward += reward\n",
    "            replay_buffer.add(state, next_state, action.reshape(N,J), reward)\n",
    "\n",
    "            if replay_buffer.size() > batch_size:\n",
    "                agent.train(replay_buffer, t, batch_size)\n",
    "            ts_counter+=1\n",
    "            if ts_counter == Ts - 10:\n",
    "                ts_counter = 0\n",
    "            #print(ts_counter)\n",
    "        b_prev_actions = action.reshape(N,J)\n",
    "        print(f\"Episode: {episode + 1}, Reward: {episode_reward/256}\")\n",
    "        epi_rewards.append(episode_reward/256)"
   ]
  },
  {
   "cell_type": "code",
   "execution_count": 10,
   "id": "2f767c14",
   "metadata": {},
   "outputs": [
    {
     "data": {
      "text/plain": [
       "[<matplotlib.lines.Line2D at 0x1ba6169e3d0>]"
      ]
     },
     "execution_count": 10,
     "metadata": {},
     "output_type": "execute_result"
    },
    {
     "data": {
      "image/png": "[encoded data removed]",
      "text/plain": [
       "<Figure size 640x480 with 1 Axes>"
      ]
     },
     "metadata": {},
     "output_type": "display_data"
    }
   ],
   "source": [
    "plt.plot(epi_rewards)"
   ]
  },
  {
   "cell_type": "code",
   "execution_count": 16,
   "id": "301a6cce",
   "metadata": {},
   "outputs": [],
   "source": [
    "'''\n",
    "import pandas as pd\n",
    "df = pd.DataFrame({'values':epi_rewards})\n",
    "df['rolling_mean'] = df['values'].rolling(window=5).mean()\n",
    "plt.plot(df['rolling_mean'])\n",
    "''';"
   ]
  },
  {
   "cell_type": "code",
   "execution_count": null,
   "id": "6ea14500",
   "metadata": {},
   "outputs": [],
   "source": []
  }
 ],
 "metadata": {
  "kernelspec": {
   "display_name": "Python 3 (ipykernel)",
   "language": "python",
   "name": "python3"
  },
  "language_info": {
   "codemirror_mode": {
    "name": "ipython",
    "version": 3
   },
   "file_extension": ".py",
   "mimetype": "text/x-python",
   "name": "python",
   "nbconvert_exporter": "python",
   "pygments_lexer": "ipython3",
   "version": "3.11.4"
  }
 },
 "nbformat": 4,
 "nbformat_minor": 5
}
