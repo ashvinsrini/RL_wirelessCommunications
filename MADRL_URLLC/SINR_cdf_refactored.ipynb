{
 "cells": [
  {
   "cell_type": "code",
   "execution_count": 1,
   "id": "fa94cabc",
   "metadata": {},
   "outputs": [],
   "source": [
    "import os\n",
    "os.environ[\"KMP_DUPLICATE_LIB_OK\"]=\"TRUE\"\n",
    "\n",
    "#import gym\n",
    "import matplotlib.pyplot as plt\n",
    "import torch\n",
    "import torch.nn as nn\n",
    "import torch.optim as optim\n",
    "import numpy as np\n",
    "import random\n",
    "from collections import deque\n",
    "import random\n",
    "import pdb\n",
    "import plotly.express as px\n",
    "import plotly.graph_objects as go\n",
    "import pickle\n",
    "import scipy.io\n",
    "from matplotlib.font_manager import FontProperties\n",
    "import pandas as pd\n",
    "from matplotlib.animation import FuncAnimation\n",
    "from IPython.display import HTML\n",
    "from tqdm import tqdm\n",
    "import matplotlib.animation as animation\n",
    "import glob\n",
    "from natsort import natsorted\n",
    "from PIL import Image\n",
    "\n",
    "def create_gif(pth, time_ind):\n",
    "    #files = glob.glob(r\"./imgs/*.png\")\n",
    "    files = glob.glob(os.path.join(pth,'*.png'))\n",
    "    files = natsorted(files)\n",
    "    image_array = []\n",
    "    \n",
    "    def update(i):\n",
    "        im.set_array(image_array[i])\n",
    "        return im, \n",
    "    \n",
    "    for my_file in files:\n",
    "\n",
    "        image = Image.open(my_file)\n",
    "        image_array.append(image)\n",
    "    \n",
    "    # Create the figure and axes objects\n",
    "    fig, ax = plt.subplots()\n",
    "\n",
    "    # Set the initial image\n",
    "    im = ax.imshow(image_array[0], animated=True)\n",
    "    \n",
    "    animation_fig = animation.FuncAnimation(fig, update, frames=len(image_array), interval=100, blit=True,repeat_delay=10,)\n",
    "\n",
    "    # Show the animation\n",
    "    #plt.show()\n",
    "\n",
    "    #animation_fig.save(\"./imgs/animated_{}.gif\".format(time_ind))\n",
    "    animation_fig.save(os.path.join(pth,'animated_{}.gif').format(time_ind))\n",
    "    pass"
   ]
  },
  {
   "cell_type": "markdown",
   "id": "2e43846d",
   "metadata": {},
   "source": [
    "### Adding gamma_0 value for SINR computation ####\n",
    "\n",
    "$\\gamma = \\frac{|h|_s^2P_t}{|h|_i^2P_t + N_0B}$\n",
    "\n",
    "Assuming power transmitted power is same from all BSs then we have \n",
    "\n",
    "$\\gamma = \\frac{|h|_s^2}{|h|_i^2 + \\frac{1}{\\gamma_0}}$\n",
    "\n",
    "\n",
    "where $\\gamma_0 = P_t/N_0B$, you can assume P_t = 10 dBm, and the below calculations for $N_0$"
   ]
  },
  {
   "cell_type": "code",
   "execution_count": 2,
   "id": "2dc46e92",
   "metadata": {},
   "outputs": [
    {
     "name": "stdout",
     "output_type": "stream",
     "text": [
      "Noise_spectral_density_dBm -173.97722915699805\n",
      "thermal_noise_power(dBm) -103.97722915699808\n",
      "1/gamma_0 4.001999999999999e-12\n"
     ]
    }
   ],
   "source": [
    "\n",
    "## transmit power ###\n",
    "Pt_dBm = 10  # Transmit power in dBm\n",
    "\n",
    "#### Noise power ####\n",
    "k = 1.38e-23  # Boltzmann's constant\n",
    "T = 290       # Temperature in Kelvin\n",
    "B = 10e6       # Bandwidth in Hz\n",
    "\n",
    "# Calculate noise spectral density in Watts/Hz\n",
    "Noise_spectral_density = k * T\n",
    "\n",
    "# Convert noise spectral density to dBm/Hz\n",
    "# Convert to Watts first then to dBm (1 mW = 0.001 W)\n",
    "Noise_spectral_density_W = Noise_spectral_density * 1000  # Convert to mW\n",
    "Noise_spectral_density_dBm = 10 * np.log10(Noise_spectral_density_W)\n",
    "print('Noise_spectral_density_dBm', Noise_spectral_density_dBm)\n",
    "\n",
    "# Calculate total noise power in Watts then convert to dBm\n",
    "N_thermal = Noise_spectral_density * B  # Total noise power in Watts\n",
    "N_thermal_dBm = 10 * np.log10(N_thermal * 1000)  # Convert noise power to dBm\n",
    "print('thermal_noise_power(dBm)', N_thermal_dBm)\n",
    "\n",
    "##### gamma_0 in dB ############\n",
    "gamma_0_dB = Pt_dBm - N_thermal_dBm  # Calculate SNR in dB\n",
    "#print('gamma_0 (dB)', gamma_0_dB)\n",
    "\n",
    "##### gamma_0 ######\n",
    "gamma_0 = np.power(10, gamma_0_dB/10)\n",
    "print('1/gamma_0', 1/gamma_0)"
   ]
  },
  {
   "cell_type": "markdown",
   "id": "2b76f51e",
   "metadata": {},
   "source": [
    "### \n",
    "CDF of SINR computed for F($\\gamma$), for different channel realizations,\n",
    "below is when the the device is at a mean distance of 1m from the serving BS with a standard deviation of 0.1 m, and mean distance from the interfering BS at 4 meters with std of 0.1m "
   ]
  },
  {
   "cell_type": "code",
   "execution_count": 3,
   "id": "6a7ae1d9",
   "metadata": {
    "scrolled": false
   },
   "outputs": [],
   "source": [
    "def return_cdf(a):\n",
    "    sorted_a = np.sort(a)\n",
    "    cdf = np.arange(1, len(sorted_a) + 1) / len(sorted_a)\n",
    "    return sorted_a, cdf\n",
    "\n"
   ]
  },
  {
   "cell_type": "code",
   "execution_count": 4,
   "id": "471a7686",
   "metadata": {},
   "outputs": [],
   "source": [
    "############## Creating distances intra and inter ########\n",
    "M = 5 # number of sub-networks \n",
    "Ts = 10000 # number of time slots\n",
    "J = 5 # number of devices\n",
    "f_c = 1.3 #GHz\n",
    "TxRxds = np.zeros((Ts, M, M*J))\n",
    "d_intra = np.abs(np.random.normal(0.5,0.1,M*J))\n",
    "d_intra = np.reshape(d_intra, (M,J))\n"
   ]
  },
  {
   "cell_type": "code",
   "execution_count": 5,
   "id": "a254b41a",
   "metadata": {},
   "outputs": [],
   "source": [
    "'''\n",
    "for ts in range(Ts):\n",
    "    d_inter_intra_arr = np.zeros((M, M*J))\n",
    "    for cnt, m in enumerate(range(M)):\n",
    "        d_inter = []\n",
    "        #total_range = list(range(1, 21))\n",
    "        for _ in range(M-1):\n",
    "            d_mean = random.randint(2,20)\n",
    "            #d_mean = random.choice(total_range)\n",
    "            #total_range = [t for t in total_range if t!=d_mean]\n",
    "            \n",
    "            #d_mean = np.random.uniform(1,20)\n",
    "            ds = np.abs(np.random.normal(d_mean, 0.1, J))\n",
    "            d_inter.extend(ds)\n",
    "        d_inter = np.array(d_inter)\n",
    "        d_inter_intra = np.insert(d_inter, cnt*M, d_intra[m,:])\n",
    "        #print(d_inter_intra)\n",
    "        d_inter_intra_arr[m] = d_inter_intra\n",
    "    TxRxds[ts] = d_inter_intra_arr\n",
    "''';"
   ]
  },
  {
   "cell_type": "code",
   "execution_count": null,
   "id": "3ced8d88",
   "metadata": {},
   "outputs": [],
   "source": []
  },
  {
   "cell_type": "code",
   "execution_count": 6,
   "id": "66e959f1",
   "metadata": {},
   "outputs": [
    {
     "name": "stderr",
     "output_type": "stream",
     "text": [
      "100%|███████████████████████████████████████████████████████████████████████████| 9999/9999 [00:00<00:00, 13165.06it/s]\n"
     ]
    }
   ],
   "source": [
    "def generate_random_point(grid_size):\n",
    "    return np.random.uniform(0, grid_size, 2)\n",
    "\n",
    "def generate_random_velocity():\n",
    "    angle = np.random.uniform(0, 2 * np.pi)\n",
    "    velocity = 11.11  # 40 km/h in m/s\n",
    "    return np.array([velocity * np.cos(angle), velocity * np.sin(angle)])\n",
    "\n",
    "def is_within_grid(point, grid_size):\n",
    "    return all(0 <= coord <= grid_size for coord in point)\n",
    "\n",
    "def handle_boundary_collisions(point, grid_size):\n",
    "    angle = np.random.uniform(0, 2 * np.pi)\n",
    "    velocity = 11.11\n",
    "    if point[0] <= 0 or point[0] >= grid_size:\n",
    "        angle = np.pi - angle if point[0] <= 0 else -angle\n",
    "    if point[1] <= 0 or point[1] >= grid_size:\n",
    "        angle = -np.pi / 2 - angle if point[1] <= 0 else np.pi / 2 - angle\n",
    "    return np.array([velocity * np.cos(angle), velocity * np.sin(angle)])\n",
    "\n",
    "def handle_ap_collisions(points, velocities, min_distance):\n",
    "    for i in range(len(points)):\n",
    "        for j in range(i + 1, len(points)):\n",
    "            if np.linalg.norm(points[i] - points[j]) < min_distance:\n",
    "                # Adjust direction randomly for both APs\n",
    "                velocities[i] = generate_random_velocity()\n",
    "                velocities[j] = generate_random_velocity()\n",
    "    return velocities\n",
    "\n",
    "def update_positions(points, velocities, tau, grid_size, min_distance):\n",
    "    new_points = points + velocities * tau\n",
    "    for i, point in enumerate(new_points):\n",
    "        if not is_within_grid(point, grid_size):\n",
    "            velocities[i] = handle_boundary_collisions(point, grid_size)\n",
    "        new_points[i] = points[i] + velocities[i] * tau  # Recalculate with new velocity\n",
    "    velocities = handle_ap_collisions(new_points, velocities, min_distance)\n",
    "    return new_points, velocities\n",
    "\n",
    "# Initialize parameters\n",
    "grid_size = 20\n",
    "num_points = M\n",
    "min_distance = 2\n",
    "tau = 0.01  # time interval in seconds\n",
    "\n",
    "# Initialize points and velocities\n",
    "points = np.array([generate_random_point(grid_size) for _ in range(num_points)])\n",
    "velocities = np.array([generate_random_velocity() for _ in range(num_points)])\n",
    "init_cents = points\n",
    "# Simulation loop for 20 time steps\n",
    "pth = r'C:\\Users\\sriniva3\\OneDrive - Aalto University\\Simulations\\RL framework URLLC\\RL framework_V2.0_DDPG\\imgs'\n",
    "#Ts = 1000\n",
    "sub_net_cents = np.zeros((Ts+1, num_points, 2))\n",
    "sub_net_cents[0] = init_cents\n",
    "for step in tqdm(range(Ts-1)):\n",
    "    points, velocities = update_positions(points, velocities, tau, grid_size, min_distance)\n",
    "    sub_net_cents[step+1] = points\n",
    "    '''\n",
    "    # Plotting for visualization\n",
    "    plt.figure(figsize=(3, 3))\n",
    "    plt.scatter(points[:, 0], points[:, 1], c='red', label=f'Time Step {step+1}')\n",
    "    plt.xlim(0, grid_size)\n",
    "    plt.ylim(0, grid_size)\n",
    "    plt.grid(True)\n",
    "    plt.title(f'Access Points at Step {step+1}')\n",
    "    plt.xlabel('Meters')\n",
    "    plt.ylabel('Meters')\n",
    "    #plt.legend()\n",
    "    plt.savefig(os.path.join(pth, '{}.png'.format(step)))\n",
    "    plt.close()\n",
    "    #plt.show()\n",
    "    ''';\n",
    "#create_gif(pth, step)"
   ]
  },
  {
   "cell_type": "code",
   "execution_count": 7,
   "id": "a0b440ee",
   "metadata": {},
   "outputs": [],
   "source": [
    "d_relative_locs = {}\n",
    "for i in range(M):\n",
    "    d_angle = np.random.uniform(0,2*np.pi,J) \n",
    "    d_r = np.random.uniform(0, 1, J)\n",
    "    d_relative_locs[i] = np.vstack([d_r*np.cos(d_angle), d_r*np.sin(d_angle)])"
   ]
  },
  {
   "cell_type": "code",
   "execution_count": 8,
   "id": "0cddfb07",
   "metadata": {},
   "outputs": [],
   "source": [
    "def return_euclid_dist(device_x_coord, device_y_coord, AP_x_coord, AP_y_coord):\n",
    "    device_coords = np.array([device_x_coord, device_y_coord])\n",
    "    AP_coords = np.array([AP_x_coord, AP_y_coord])\n",
    "    return np.linalg.norm(device_coords - AP_coords)\n",
    "\n",
    "x_coords_ts, y_coords_ts = {}, {}\n",
    "for ts in range(Ts):\n",
    "    coords = sub_net_cents[ts]\n",
    "    point_xs, point_ys = [], []\n",
    "    for k in d_relative_locs.keys():\n",
    "        point_x = d_relative_locs[k][0] + coords[k][0]\n",
    "        point_y = d_relative_locs[k][1] + coords[k][1]\n",
    "        #print(point_x, point_y)\n",
    "        point_xs.append(point_x)\n",
    "        point_ys.append(point_y)\n",
    "    #break    \n",
    "    x_coords_ts[ts] = point_xs\n",
    "    y_coords_ts[ts] = point_ys"
   ]
  },
  {
   "cell_type": "code",
   "execution_count": 9,
   "id": "b17264a1",
   "metadata": {},
   "outputs": [],
   "source": [
    "TxRxds = np.zeros((Ts, M, M*J))\n",
    "for ts in range(Ts):\n",
    "    device_x_coords, device_y_coords = np.array(x_coords_ts[ts]), np.array(y_coords_ts[ts])\n",
    "    device_x_coords, device_y_coords = device_x_coords.flatten(), device_y_coords.flatten()\n",
    "    AP_x_coords, AP_y_coords = sub_net_cents[ts][:,0], sub_net_cents[ts][:,1]\n",
    "    \n",
    "    #for dx in device_x_coords \n",
    "    dists = np.zeros((M,M*J))\n",
    "    for i in range(AP_x_coords.shape[0]):\n",
    "        dist = []\n",
    "        for j in range(len(device_x_coords.flatten())):\n",
    "            #dist = []\n",
    "            #print(i,j)\n",
    "            dist.append(return_euclid_dist(device_x_coords[j], device_y_coords[j], AP_x_coords[i], AP_y_coords[i]))\n",
    "            #print(dist)\n",
    "        dists[i] = np.array(dist)\n",
    "    TxRxds[ts] = dists\n",
    "    #break\n",
    "\n",
    "#dist = return_euclid_dist(x_coords_ts[0], y_coords_ts[0], AP_x_coord, AP_y_coord)"
   ]
  },
  {
   "cell_type": "code",
   "execution_count": 10,
   "id": "b1728234",
   "metadata": {},
   "outputs": [],
   "source": [
    "all_SINRsdB, all_MeansPerSubNW, all_DiffsFromMean = np.zeros((Ts, M*J)), np.zeros((Ts, M)), np.zeros((Ts, M*J))\n",
    "for ts in range(Ts):\n",
    "    \n",
    "    ############ fast fading coeffecients ########\n",
    "    FastFadingChannels = np.random.normal(0,1/np.sqrt(2), M*M*J) + 1j*np.random.normal(0,1/np.sqrt(2), M*M*J)\n",
    "    #FastFadingChannels/=np.sqrt(2)\n",
    "    FastFadingChannels = np.reshape(FastFadingChannels,(M,M*J))\n",
    "    FadingGains = np.abs(FastFadingChannels)**2\n",
    "    #### path loss ####\n",
    "    #alf, L0 = 2.55, 111.779\n",
    "    #PathLossesdB = L0 + 10*alf*np.log10(TxRxds[ts]/1000)\n",
    "    #PathGains = np.power(10, -PathLossesdB/10)\n",
    "    \n",
    "    PL_los = 31.84 +21.5*np.log10(TxRxds[ts]) + 19*np.log10(f_c)\n",
    "    PL = 33+25.5*np.log10(TxRxds[ts])+20*np.log10(f_c)\n",
    "    PL_nlos = np.max((PL_los, PL), axis = 0)\n",
    "    PathGains = np.power(10, -PL_nlos/10)\n",
    "    \n",
    "\n",
    "\n",
    "    ##### Compute total path gains ########\n",
    "    PathGainsTot = PathGains*FadingGains\n",
    "    \n",
    "    #### Compute WantedSigPerDev ######\n",
    "    WantedSigPerDev = np.zeros((M,J))\n",
    "    for m in range(M):\n",
    "        wanted_sig = PathGainsTot[m,m*M:(m+1)*M]\n",
    "        WantedSigPerDev[m] = wanted_sig\n",
    "\n",
    "    #### Compute InterfPowsPerDev ######\n",
    "    InterfPowsPerDev = np.zeros((M,J))\n",
    "    for m in range(M):\n",
    "        Interferers = [i for i in range(M) if i!=m]\n",
    "        Devs = np.arange(m*M,(m+1)*M)\n",
    "        #print(Interferers, Devs)\n",
    "        InterfPowGains = PathGainsTot[np.ix_(Interferers, Devs)]\n",
    "        InterfPowsPerDev[m,] = np.sum(InterfPowGains, axis = 0)\n",
    "        #break\n",
    "\n",
    "    \n",
    "    SINRs = WantedSigPerDev/(InterfPowsPerDev + 1/gamma_0);\n",
    "    SINRsdB = 10*np.log10(SINRs)\n",
    "    MeansPerSubNW = np.mean(SINRsdB, axis = 1)\n",
    "    \n",
    "    DiffsFromMean = []\n",
    "    for i in range(len(MeansPerSubNW)):\n",
    "        diff = SINRsdB[i] - MeansPerSubNW[i]\n",
    "        DiffsFromMean.append(diff)\n",
    "    DiffsFromMean = np.array(DiffsFromMean)    \n",
    "    \n",
    "    all_SINRsdB[ts,:] = SINRsdB.flatten()\n",
    "    all_MeansPerSubNW[ts,:] = MeansPerSubNW.flatten()\n",
    "    all_DiffsFromMean[ts,:] = DiffsFromMean.flatten()\n",
    "    \n",
    "    #break"
   ]
  },
  {
   "cell_type": "code",
   "execution_count": 11,
   "id": "26e0a045",
   "metadata": {},
   "outputs": [
    {
     "name": "stdout",
     "output_type": "stream",
     "text": [
      "25.51276624539203 25.512766245392037 -1.0551559626037488e-17\n"
     ]
    },
    {
     "data": {
      "image/png": "[encoded data removed]",
      "text/plain": [
       "<Figure size 640x480 with 1 Axes>"
      ]
     },
     "metadata": {},
     "output_type": "display_data"
    }
   ],
   "source": [
    "a1, cdf1 = return_cdf(all_SINRsdB.flatten())\n",
    "a2, cdf2 = return_cdf(all_MeansPerSubNW.flatten())\n",
    "a3, cdf3 = return_cdf(all_DiffsFromMean.flatten())\n",
    "\n",
    "plt.ylim(np.min(cdf2))\n",
    "plt.semilogy(a1, cdf1, label = r'$F(\\gamma)$')\n",
    "plt.semilogy(a2, cdf2 , label = r'$F(\\bar{\\gamma})$')\n",
    "plt.semilogy(a3, cdf3, label =  r'$F(\\gamma/\\bar{\\gamma}|\\bar{\\gamma})$')\n",
    "plt.grid()\n",
    "plt.xlabel('SINR(dB)')\n",
    "plt.ylabel('CDF(log scale)')\n",
    "plt.legend()\n",
    "print(np.mean(all_SINRsdB.flatten()), np.mean(all_MeansPerSubNW.flatten()), np.mean(all_DiffsFromMean.flatten()))"
   ]
  },
  {
   "cell_type": "code",
   "execution_count": 12,
   "id": "a309012b",
   "metadata": {},
   "outputs": [
    {
     "data": {
      "image/png": "[encoded data removed]",
      "text/plain": [
       "<Figure size 640x480 with 1 Axes>"
      ]
     },
     "metadata": {},
     "output_type": "display_data"
    }
   ],
   "source": [
    "plt.hist(TxRxds.flatten(), bins = 30)\n",
    "plt.grid()\n",
    "plt.show()"
   ]
  },
  {
   "cell_type": "code",
   "execution_count": null,
   "id": "282c8dc2",
   "metadata": {},
   "outputs": [],
   "source": []
  },
  {
   "cell_type": "code",
   "execution_count": null,
   "id": "4fe90648",
   "metadata": {},
   "outputs": [],
   "source": []
  },
  {
   "cell_type": "code",
   "execution_count": null,
   "id": "85bc4f40",
   "metadata": {},
   "outputs": [],
   "source": []
  },
  {
   "cell_type": "code",
   "execution_count": null,
   "id": "8e021408",
   "metadata": {},
   "outputs": [],
   "source": []
  },
  {
   "cell_type": "code",
   "execution_count": null,
   "id": "2b741156",
   "metadata": {},
   "outputs": [],
   "source": []
  },
  {
   "cell_type": "code",
   "execution_count": null,
   "id": "13e92d90",
   "metadata": {},
   "outputs": [],
   "source": []
  }
 ],
 "metadata": {
  "kernelspec": {
   "display_name": "Python 3 (ipykernel)",
   "language": "python",
   "name": "python3"
  },
  "language_info": {
   "codemirror_mode": {
    "name": "ipython",
    "version": 3
   },
   "file_extension": ".py",
   "mimetype": "text/x-python",
   "name": "python",
   "nbconvert_exporter": "python",
   "pygments_lexer": "ipython3",
   "version": "3.11.4"
  }
 },
 "nbformat": 4,
 "nbformat_minor": 5
}
