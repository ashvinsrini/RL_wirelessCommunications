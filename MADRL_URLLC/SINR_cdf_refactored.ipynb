{
 "cells": [
  {
   "cell_type": "code",
   "execution_count": 1,
   "id": "fa94cabc",
   "metadata": {},
   "outputs": [],
   "source": [
    "import os\n",
    "os.environ[\"KMP_DUPLICATE_LIB_OK\"]=\"TRUE\"\n",
    "#import gym\n",
    "import matplotlib.pyplot as plt\n",
    "import torch\n",
    "import torch.nn as nn\n",
    "import torch.optim as optim\n",
    "import numpy as np\n",
    "import random\n",
    "from collections import deque\n",
    "import random\n",
    "import pdb\n",
    "import plotly.express as px\n",
    "import plotly.graph_objects as go\n",
    "import pickle\n",
    "import scipy.io\n",
    "from matplotlib.font_manager import FontProperties\n",
    "import pandas as pd\n",
    "from matplotlib.animation import FuncAnimation\n",
    "from IPython.display import HTML\n",
    "from tqdm import tqdm\n",
    "import matplotlib.animation as animation\n",
    "import glob\n",
    "from natsort import natsorted\n",
    "from PIL import Image\n",
    "\n",
    "def create_gif(pth, time_ind):\n",
    "    #files = glob.glob(r\"./imgs/*.png\")\n",
    "    files = glob.glob(os.path.join(pth,'*.png'))\n",
    "    files = natsorted(files)\n",
    "    image_array = []\n",
    "    \n",
    "    def update(i):\n",
    "        im.set_array(image_array[i])\n",
    "        return im, \n",
    "    \n",
    "    for my_file in files:\n",
    "\n",
    "        image = Image.open(my_file)\n",
    "        image_array.append(image)\n",
    "    \n",
    "    # Create the figure and axes objects\n",
    "    fig, ax = plt.subplots()\n",
    "\n",
    "    # Set the initial image\n",
    "    im = ax.imshow(image_array[0], animated=True)\n",
    "    \n",
    "    animation_fig = animation.FuncAnimation(fig, update, frames=len(image_array), interval=100, blit=True,repeat_delay=10,)\n",
    "\n",
    "    # Show the animation\n",
    "    #plt.show()\n",
    "\n",
    "    #animation_fig.save(\"./imgs/animated_{}.gif\".format(time_ind))\n",
    "    animation_fig.save(os.path.join(pth,'animated_{}.gif').format(time_ind))\n",
    "    pass"
   ]
  },
  {
   "cell_type": "markdown",
   "id": "2e43846d",
   "metadata": {},
   "source": [
    "### Adding gamma_0 value for SINR computation ####\n",
    "\n",
    "$\\gamma = \\frac{|h|_s^2P_t}{|h|_i^2P_t + N_0B}$\n",
    "\n",
    "Assuming power transmitted power is same from all BSs then we have \n",
    "\n",
    "$\\gamma = \\frac{|h|_s^2}{|h|_i^2 + \\frac{1}{\\gamma_0}}$\n",
    "\n",
    "\n",
    "where $\\gamma_0 = P_t/N_0B$, you can assume P_t = 10 dBm, and the below calculations for $N_0$"
   ]
  },
  {
   "cell_type": "code",
   "execution_count": 2,
   "id": "2dc46e92",
   "metadata": {},
   "outputs": [
    {
     "name": "stdout",
     "output_type": "stream",
     "text": [
      "Noise_spectral_density_dBm -173.97722915699805\n",
      "thermal_noise_power(dBm) -103.97722915699808\n",
      "1/gamma_0 4.001999999999999e-12\n"
     ]
    }
   ],
   "source": [
    "## transmit power ###\n",
    "Pt_dBm = 10  # Transmit power in dBm\n",
    "\n",
    "#### Noise power ####\n",
    "k = 1.38e-23  # Boltzmann's constant\n",
    "T = 290       # Temperature in Kelvin\n",
    "B = 10e6       # Bandwidth in Hz\n",
    "\n",
    "# Calculate noise spectral density in Watts/Hz\n",
    "Noise_spectral_density = k * T\n",
    "\n",
    "# Convert noise spectral density to dBm/Hz\n",
    "# Convert to Watts first then to dBm (1 mW = 0.001 W)\n",
    "Noise_spectral_density_W = Noise_spectral_density * 1000  # Convert to mW\n",
    "Noise_spectral_density_dBm = 10 * np.log10(Noise_spectral_density_W)\n",
    "print('Noise_spectral_density_dBm', Noise_spectral_density_dBm)\n",
    "\n",
    "# Calculate total noise power in Watts then convert to dBm\n",
    "N_thermal = Noise_spectral_density * B  # Total noise power in Watts\n",
    "N_thermal_dBm = 10 * np.log10(N_thermal * 1000)  # Convert noise power to dBm\n",
    "print('thermal_noise_power(dBm)', N_thermal_dBm)\n",
    "\n",
    "##### gamma_0 in dB ############\n",
    "gamma_0_dB = Pt_dBm - N_thermal_dBm  # Calculate SNR in dB\n",
    "#print('gamma_0 (dB)', gamma_0_dB)\n",
    "\n",
    "##### gamma_0 ######\n",
    "gamma_0 = np.power(10, gamma_0_dB/10)\n",
    "print('1/gamma_0', 1/gamma_0)"
   ]
  },
  {
   "cell_type": "markdown",
   "id": "2b76f51e",
   "metadata": {},
   "source": [
    "### \n",
    "CDF of SINR computed for F($\\gamma$), for different channel realizations,\n",
    "below is when the the device is at a mean distance of 1m from the serving BS with a standard deviation of 0.1 m, and mean distance from the interfering BS at 4 meters with std of 0.1m "
   ]
  },
  {
   "cell_type": "code",
   "execution_count": 3,
   "id": "6a7ae1d9",
   "metadata": {
    "scrolled": false
   },
   "outputs": [],
   "source": [
    "def return_cdf(a):\n",
    "    sorted_a = np.sort(a)\n",
    "    cdf = np.arange(1, len(sorted_a) + 1) / len(sorted_a)\n",
    "    return sorted_a, cdf"
   ]
  },
  {
   "cell_type": "code",
   "execution_count": null,
   "id": "1bbbb7c3",
   "metadata": {},
   "outputs": [],
   "source": []
  },
  {
   "cell_type": "code",
   "execution_count": null,
   "id": "b997b6d7",
   "metadata": {},
   "outputs": [],
   "source": []
  },
  {
   "cell_type": "code",
   "execution_count": 4,
   "id": "471a7686",
   "metadata": {},
   "outputs": [],
   "source": [
    "############## Creating distances intra and inter ########\n",
    "M = 5 # number of sub-networks \n",
    "Ts = 10000 # number of time slots\n",
    "J = 5 # number of devices\n",
    "f_c = 1.3 #GHz\n",
    "TxRxds = np.zeros((Ts, M, M*J))\n",
    "d_intra = np.abs(np.random.normal(0.5,0.1,M*J))\n",
    "d_intra = np.reshape(d_intra, (M,J))"
   ]
  },
  {
   "cell_type": "code",
   "execution_count": 5,
   "id": "a254b41a",
   "metadata": {},
   "outputs": [],
   "source": [
    "'''\n",
    "for ts in range(Ts):\n",
    "    d_inter_intra_arr = np.zeros((M, M*J))\n",
    "    for cnt, m in enumerate(range(M)):\n",
    "        d_inter = []\n",
    "        #total_range = list(range(1, 21))\n",
    "        for _ in range(M-1):\n",
    "            d_mean = random.randint(2,20)\n",
    "            #d_mean = random.choice(total_range)\n",
    "            #total_range = [t for t in total_range if t!=d_mean]\n",
    "            \n",
    "            #d_mean = np.random.uniform(1,20)\n",
    "            ds = np.abs(np.random.normal(d_mean, 0.1, J))\n",
    "            d_inter.extend(ds)\n",
    "        d_inter = np.array(d_inter)\n",
    "        d_inter_intra = np.insert(d_inter, cnt*M, d_intra[m,:])\n",
    "        #print(d_inter_intra)\n",
    "        d_inter_intra_arr[m] = d_inter_intra\n",
    "    TxRxds[ts] = d_inter_intra_arr\n",
    "''';"
   ]
  },
  {
   "cell_type": "code",
   "execution_count": null,
   "id": "ea5d2481",
   "metadata": {},
   "outputs": [],
   "source": []
  },
  {
   "cell_type": "code",
   "execution_count": 6,
   "id": "9fc004e1",
   "metadata": {},
   "outputs": [
    {
     "name": "stderr",
     "output_type": "stream",
     "text": [
      "100%|███████████████████████████████████████████████████████████████████████████| 9999/9999 [00:00<00:00, 12940.72it/s]\n"
     ]
    }
   ],
   "source": [
    "def generate_random_point(grid_size):\n",
    "    return np.random.uniform(0, grid_size, 2)\n",
    "\n",
    "def generate_random_velocity():\n",
    "    angle = np.random.uniform(0, 2 * np.pi)\n",
    "    velocity = 11.11  # 40 km/h in m/s\n",
    "    return np.array([velocity * np.cos(angle), velocity * np.sin(angle)])\n",
    "\n",
    "def is_within_grid(point, grid_size):\n",
    "    return all(0 <= coord <= grid_size for coord in point)\n",
    "\n",
    "def handle_boundary_collisions(point, grid_size):\n",
    "    angle = np.random.uniform(0, 2 * np.pi)\n",
    "    velocity = 11.11\n",
    "    if point[0] <= 0 or point[0] >= grid_size:\n",
    "        angle = np.pi - angle if point[0] <= 0 else -angle\n",
    "    if point[1] <= 0 or point[1] >= grid_size:\n",
    "        angle = -np.pi / 2 - angle if point[1] <= 0 else np.pi / 2 - angle\n",
    "    return np.array([velocity * np.cos(angle), velocity * np.sin(angle)])\n",
    "\n",
    "def handle_ap_collisions(points, velocities, min_distance):\n",
    "    for i in range(len(points)):\n",
    "        for j in range(i + 1, len(points)):\n",
    "            if np.linalg.norm(points[i] - points[j]) < min_distance:\n",
    "                # Adjust direction randomly for both APs\n",
    "                velocities[i] = generate_random_velocity()\n",
    "                velocities[j] = generate_random_velocity()\n",
    "    return velocities\n",
    "\n",
    "def update_positions(points, velocities, tau, grid_size, min_distance):\n",
    "    new_points = points + velocities * tau\n",
    "    for i, point in enumerate(new_points):\n",
    "        if not is_within_grid(point, grid_size):\n",
    "            velocities[i] = handle_boundary_collisions(point, grid_size)\n",
    "        new_points[i] = points[i] + velocities[i] * tau  # Recalculate with new velocity\n",
    "    velocities = handle_ap_collisions(new_points, velocities, min_distance)\n",
    "    return new_points, velocities\n",
    "\n",
    "# Initialize parameters\n",
    "grid_size = 20\n",
    "num_points = M\n",
    "min_distance = 2\n",
    "tau = 0.01  # time interval in seconds\n",
    "\n",
    "# Initialize points and velocities\n",
    "points = np.array([generate_random_point(grid_size) for _ in range(num_points)])\n",
    "velocities = np.array([generate_random_velocity() for _ in range(num_points)])\n",
    "init_cents = points\n",
    "# Simulation loop for 20 time steps\n",
    "pth = r'C:\\Users\\sriniva3\\OneDrive - Aalto University\\Simulations\\RL framework URLLC\\RL framework_V2.0_DDPG\\imgs'\n",
    "#Ts = 1000\n",
    "sub_net_cents = np.zeros((Ts+1, num_points, 2))\n",
    "sub_net_cents[0] = init_cents\n",
    "for step in tqdm(range(Ts-1)):\n",
    "    points, velocities = update_positions(points, velocities, tau, grid_size, min_distance)\n",
    "    sub_net_cents[step+1] = points\n",
    "    '''\n",
    "    # Plotting for visualization\n",
    "    plt.figure(figsize=(3, 3))\n",
    "    plt.scatter(points[:, 0], points[:, 1], c='red', label=f'Time Step {step+1}')\n",
    "    plt.xlim(0, grid_size)\n",
    "    plt.ylim(0, grid_size)\n",
    "    plt.grid(True)\n",
    "    plt.title(f'Access Points at Step {step+1}')\n",
    "    plt.xlabel('Meters')\n",
    "    plt.ylabel('Meters')\n",
    "    #plt.legend()\n",
    "    plt.savefig(os.path.join(pth, '{}.png'.format(step)))\n",
    "    plt.close()\n",
    "    #plt.show()\n",
    "    ''';\n",
    "#create_gif(pth, step)"
   ]
  },
  {
   "cell_type": "code",
   "execution_count": 7,
   "id": "0ce0437e",
   "metadata": {},
   "outputs": [],
   "source": [
    "d_relative_locs = {}\n",
    "for i in range(M):\n",
    "    d_angle = np.random.uniform(0,2*np.pi,J) \n",
    "    d_r = np.random.uniform(0, 1, J)\n",
    "    d_relative_locs[i] = np.vstack([d_r*np.cos(d_angle), d_r*np.sin(d_angle)])"
   ]
  },
  {
   "cell_type": "code",
   "execution_count": 8,
   "id": "3003dc5b",
   "metadata": {},
   "outputs": [],
   "source": [
    "def return_euclid_dist(device_x_coord, device_y_coord, AP_x_coord, AP_y_coord):\n",
    "    device_coords = np.array([device_x_coord, device_y_coord])\n",
    "    AP_coords = np.array([AP_x_coord, AP_y_coord])\n",
    "    return np.linalg.norm(device_coords - AP_coords)\n",
    "\n",
    "x_coords_ts, y_coords_ts = {}, {}\n",
    "for ts in range(Ts):\n",
    "    coords = sub_net_cents[ts]\n",
    "    point_xs, point_ys = [], []\n",
    "    for k in d_relative_locs.keys():\n",
    "        point_x = d_relative_locs[k][0] + coords[k][0]\n",
    "        point_y = d_relative_locs[k][1] + coords[k][1]\n",
    "        #print(point_x, point_y)\n",
    "        point_xs.append(point_x)\n",
    "        point_ys.append(point_y)\n",
    "    #break    \n",
    "    x_coords_ts[ts] = point_xs\n",
    "    y_coords_ts[ts] = point_ys"
   ]
  },
  {
   "cell_type": "code",
   "execution_count": 9,
   "id": "18bce7d5",
   "metadata": {},
   "outputs": [],
   "source": [
    "TxRxds = np.zeros((Ts, M, M*J))\n",
    "for ts in range(Ts):\n",
    "    device_x_coords, device_y_coords = np.array(x_coords_ts[ts]), np.array(y_coords_ts[ts])\n",
    "    device_x_coords, device_y_coords = device_x_coords.flatten(), device_y_coords.flatten()\n",
    "    AP_x_coords, AP_y_coords = sub_net_cents[ts][:,0], sub_net_cents[ts][:,1]\n",
    "    \n",
    "    #for dx in device_x_coords \n",
    "    dists = np.zeros((M,M*J))\n",
    "    for i in range(AP_x_coords.shape[0]):\n",
    "        dist = []\n",
    "        for j in range(len(device_x_coords.flatten())):\n",
    "            #dist = []\n",
    "            #print(i,j)\n",
    "            dist.append(return_euclid_dist(device_x_coords[j], device_y_coords[j], AP_x_coords[i], AP_y_coords[i]))\n",
    "            #print(dist)\n",
    "        dists[i] = np.array(dist)\n",
    "    TxRxds[ts] = dists\n",
    "    #break\n",
    "\n",
    "#dist = return_euclid_dist(x_coords_ts[0], y_coords_ts[0], AP_x_coord, AP_y_coord)"
   ]
  },
  {
   "cell_type": "code",
   "execution_count": null,
   "id": "e137ed00",
   "metadata": {},
   "outputs": [],
   "source": []
  },
  {
   "cell_type": "code",
   "execution_count": null,
   "id": "5c0d7670",
   "metadata": {},
   "outputs": [],
   "source": []
  },
  {
   "cell_type": "code",
   "execution_count": null,
   "id": "7000d4b7",
   "metadata": {},
   "outputs": [],
   "source": []
  },
  {
   "cell_type": "code",
   "execution_count": null,
   "id": "9115d596",
   "metadata": {
    "scrolled": true
   },
   "outputs": [],
   "source": []
  },
  {
   "cell_type": "code",
   "execution_count": 10,
   "id": "b1728234",
   "metadata": {},
   "outputs": [],
   "source": [
    "all_SINRsdB, all_MeansPerSubNW, all_DiffsFromMean = np.zeros((Ts, M*J)), np.zeros((Ts, M)), np.zeros((Ts, M*J))\n",
    "FadingGains_ts = []\n",
    "for ts in range(Ts):\n",
    "    \n",
    "    ############ fast fading coeffecients ########\n",
    "    FastFadingChannels = np.random.normal(0,1/np.sqrt(2), M*M*J) + 1j*np.random.normal(0,1/np.sqrt(2), M*M*J)\n",
    "    #FastFadingChannels/=np.sqrt(2)\n",
    "    FastFadingChannels = np.reshape(FastFadingChannels,(M,M*J))\n",
    "    FadingGains = np.abs(FastFadingChannels)**2\n",
    "    FadingGains_ts.append(FadingGains)\n",
    "    #### path loss ####\n",
    "    #alf, L0 = 2.55, 111.779\n",
    "    #PathLossesdB = L0 + 10*alf*np.log10(TxRxds[ts]/1000)\n",
    "    #PathGains = np.power(10, -PathLossesdB/10)\n",
    "    \n",
    "    PL_los = 31.84 +21.5*np.log10(TxRxds[ts]) + 19*np.log10(f_c)\n",
    "    PL = 33+25.5*np.log10(TxRxds[ts])+20*np.log10(f_c)\n",
    "    PL_nlos = np.max((PL_los, PL), axis = 0)\n",
    "    PathGains = np.power(10, -PL_nlos/10)\n",
    "    \n",
    "\n",
    "\n",
    "    ##### Compute total path gains ########\n",
    "    PathGainsTot = PathGains*FadingGains\n",
    "    \n",
    "    #### Compute WantedSigPerDev ######\n",
    "    WantedSigPerDev = np.zeros((M,J))\n",
    "    for m in range(M):\n",
    "        wanted_sig = PathGainsTot[m,m*M:(m+1)*M]\n",
    "        WantedSigPerDev[m] = wanted_sig\n",
    "\n",
    "    #### Compute InterfPowsPerDev ######\n",
    "    InterfPowsPerDev = np.zeros((M,J))\n",
    "    for m in range(M):\n",
    "        Interferers = [i for i in range(M) if i!=m]\n",
    "        Devs = np.arange(m*M,(m+1)*M)\n",
    "        #print(Interferers, Devs)\n",
    "        InterfPowGains = PathGainsTot[np.ix_(Interferers, Devs)]\n",
    "        InterfPowsPerDev[m,] = np.sum(InterfPowGains, axis = 0)\n",
    "        #break\n",
    "\n",
    "    \n",
    "    SINRs = WantedSigPerDev/(InterfPowsPerDev + 1/gamma_0);\n",
    "    SINRsdB = 10*np.log10(SINRs)\n",
    "    MeansPerSubNW = np.mean(SINRsdB, axis = 1)\n",
    "    \n",
    "    DiffsFromMean = []\n",
    "    for i in range(len(MeansPerSubNW)):\n",
    "        diff = SINRsdB[i] - MeansPerSubNW[i]\n",
    "        DiffsFromMean.append(diff)\n",
    "    DiffsFromMean = np.array(DiffsFromMean)    \n",
    "    \n",
    "    all_SINRsdB[ts,:] = SINRsdB.flatten()\n",
    "    all_MeansPerSubNW[ts,:] = MeansPerSubNW.flatten()\n",
    "    all_DiffsFromMean[ts,:] = DiffsFromMean.flatten()\n",
    "    \n",
    "    #break"
   ]
  },
  {
   "cell_type": "code",
   "execution_count": 11,
   "id": "0ef95876",
   "metadata": {},
   "outputs": [
    {
     "data": {
      "text/plain": [
       "(250000,)"
      ]
     },
     "execution_count": 11,
     "metadata": {},
     "output_type": "execute_result"
    }
   ],
   "source": [
    "all_DiffsFromMean.flatten().shape"
   ]
  },
  {
   "cell_type": "code",
   "execution_count": 12,
   "id": "26e0a045",
   "metadata": {},
   "outputs": [
    {
     "name": "stdout",
     "output_type": "stream",
     "text": [
      "25.475525654323096 25.475525654323107 -1.326583287664107e-17\n"
     ]
    },
    {
     "data": {
      "image/png": "[encoded data removed]",
      "text/plain": [
       "<Figure size 500x300 with 1 Axes>"
      ]
     },
     "metadata": {},
     "output_type": "display_data"
    }
   ],
   "source": [
    "a1, cdf1 = return_cdf(all_SINRsdB.flatten())\n",
    "a2, cdf2 = return_cdf(all_MeansPerSubNW.flatten())\n",
    "a3, cdf3 = return_cdf(all_DiffsFromMean.flatten())\n",
    "plt.figure(figsize= [5,3])\n",
    "plt.ylim(np.min(cdf2))\n",
    "plt.semilogy(a1, cdf1, label = r'$F(\\gamma)$')\n",
    "plt.semilogy(a2, cdf2 , label = r'$F(\\bar{\\gamma})$')\n",
    "plt.semilogy(a3, cdf3, label =  r'$F(\\gamma/\\bar{\\gamma}|\\bar{\\gamma})$')\n",
    "plt.grid()\n",
    "plt.xlabel('SINR(dB)')\n",
    "plt.ylabel('CDF(log scale)')\n",
    "plt.legend()\n",
    "print(np.mean(all_SINRsdB.flatten()), np.mean(all_MeansPerSubNW.flatten()), np.mean(all_DiffsFromMean.flatten()))"
   ]
  },
  {
   "cell_type": "code",
   "execution_count": 13,
   "id": "a309012b",
   "metadata": {},
   "outputs": [
    {
     "data": {
      "image/png": "[encoded data removed]",
      "text/plain": [
       "<Figure size 640x480 with 1 Axes>"
      ]
     },
     "metadata": {},
     "output_type": "display_data"
    }
   ],
   "source": [
    "plt.hist(TxRxds.flatten(), bins = 30)\n",
    "plt.grid()\n",
    "plt.show()"
   ]
  },
  {
   "cell_type": "markdown",
   "id": "17579bdb",
   "metadata": {},
   "source": [
    "### Using Jakes model "
   ]
  },
  {
   "cell_type": "code",
   "execution_count": 16,
   "id": "00cb3e88",
   "metadata": {},
   "outputs": [
    {
     "name": "stderr",
     "output_type": "stream",
     "text": [
      "100%|████████████████████████████████████████████████████████████████████████████████| 100/100 [00:18<00:00,  5.43it/s]\n"
     ]
    }
   ],
   "source": [
    "\n",
    "def return_jakes_coeffcients(fd_max, TimeVaris, n_links = 5, plot = True):\n",
    "    ff_gains, TimeSequences = [], []\n",
    "    rays = 100\n",
    "    for i in tqdm(range(n_links)):    \n",
    "        #TimeVaris = np.arange(0,50,0.0005)\n",
    "        #TimeVaris = np.arange(0,.2,0.005)\n",
    "        frequs = np.sort(np.array([np.round(fd_max*np.cos(2*np.pi*np.random.uniform(0,1))) for _ in range(rays)]))\n",
    "        phases = np.array([np.exp(1j*2*np.pi*np.random.uniform(0,1)) for _ in range(rays)])\n",
    "\n",
    "        TimeSequence = []\n",
    "        for t in TimeVaris:\n",
    "            tab = np.exp(1j*2*np.pi*frequs*t)\n",
    "            tabrot = tab*phases\n",
    "            fun = np.sum(tabrot)\n",
    "            TimeSequence.append(fun)\n",
    "        TimeSequence = np.array(TimeSequence)\n",
    "\n",
    "        #TimeSequence = TimeSequence/np.linalg.norm(TimeSequence)*np.sqrt(len(TimeSequence))\n",
    "        PowerSequence1 =  np.abs(TimeSequence)**2;\n",
    "        #plt.plot(TimeVaris[0:200], 10*np.log10(PowerSequence1)[0:200])\n",
    "        ff_gains.append(PowerSequence1)\n",
    "        TimeSequences.append(TimeSequence)\n",
    "    ff_gains = np.array(ff_gains)/rays\n",
    "    TimeSequences = np.array(TimeSequences)\n",
    "    if plot:\n",
    "        plt.plot(TimeVaris[0:200], 10*np.log10(ff_gains[0])[0:200])\n",
    "        plt.show()\n",
    "    return ff_gains, TimeSequences\n",
    "\n",
    "v = 40 #kmph \n",
    "v_ms = v*5/18\n",
    "c = 3*1e8\n",
    "tau = .01\n",
    "fd_max = v_ms*f_c*1e9/c\n",
    "TimeVaris = np.arange(0,5,0.0005)\n",
    "\n",
    "ff_gains, TimeSequences = return_jakes_coeffcients(fd_max, TimeVaris, n_links = 100, plot = False)\n",
    "#plt.plot(TimeVaris[0:Ts], 10*np.log10(ff_gains.flatten()[0:Ts]))\n",
    "#plt.show()"
   ]
  },
  {
   "cell_type": "code",
   "execution_count": null,
   "id": "a38f59f6",
   "metadata": {},
   "outputs": [],
   "source": []
  },
  {
   "cell_type": "code",
   "execution_count": null,
   "id": "9146917a",
   "metadata": {},
   "outputs": [],
   "source": []
  },
  {
   "cell_type": "code",
   "execution_count": null,
   "id": "6eebe815",
   "metadata": {},
   "outputs": [],
   "source": []
  },
  {
   "cell_type": "code",
   "execution_count": null,
   "id": "6e7a7a79",
   "metadata": {},
   "outputs": [],
   "source": []
  },
  {
   "cell_type": "code",
   "execution_count": 17,
   "id": "0068eb20",
   "metadata": {
    "scrolled": true
   },
   "outputs": [],
   "source": [
    "############ fast fading coeffecients ########\n",
    "FastFadingChannels = np.random.normal(0,1/np.sqrt(2), M*J) + 1j*np.random.normal(0,1/np.sqrt(2), M*J)\n",
    "FastFadingChannels = np.reshape(FastFadingChannels,(M,J))\n",
    "FadingGains = np.abs(FastFadingChannels)**2\n",
    "all_SINRsdB, all_MeansPerSubNW, all_DiffsFromMean = np.zeros((Ts, M*J)), np.zeros((Ts, M)), np.zeros((Ts, M*J))\n",
    "for ts in range(Ts):\n",
    "    \n",
    "\n",
    "    #FadingGains.shape\n",
    "\n",
    "    all_fast_fading_gains = np.zeros((M,M*J))\n",
    "    for m in range(M):\n",
    "        jakes_coeffs = ff_gains[:,ts]\n",
    "        jakes_coeffs = np.reshape(jakes_coeffs,(M,(M-1)*J))\n",
    "        all_fast_fading_gains[m] = np.concatenate([FadingGains[m], jakes_coeffs[m]])\n",
    "    all_fast_fading_gains = np.array(all_fast_fading_gains)\n",
    "    #### path loss ####\n",
    "    #alf, L0 = 2.55, 111.779\n",
    "    #PathLossesdB = L0 + 10*alf*np.log10(TxRxds[ts]/1000)\n",
    "    #PathGains = np.power(10, -PathLossesdB/10)\n",
    "    \n",
    "    PL_los = 31.84 +21.5*np.log10(TxRxds[ts]) + 19*np.log10(f_c)\n",
    "    PL = 33+25.5*np.log10(TxRxds[ts])+20*np.log10(f_c)\n",
    "    PL_nlos = np.max((PL_los, PL), axis = 0)\n",
    "    PathGains = np.power(10, -PL_nlos/10)\n",
    "    \n",
    "\n",
    "\n",
    "    ##### Compute total path gains ########\n",
    "    PathGainsTot = PathGains*all_fast_fading_gains\n",
    "    \n",
    "    #### Compute WantedSigPerDev ######\n",
    "    WantedSigPerDev = np.zeros((M,J))\n",
    "    for m in range(M):\n",
    "        wanted_sig = PathGainsTot[m,m*M:(m+1)*M]\n",
    "        WantedSigPerDev[m] = wanted_sig\n",
    "\n",
    "    #### Compute InterfPowsPerDev ######\n",
    "    InterfPowsPerDev = np.zeros((M,J))\n",
    "    for m in range(M):\n",
    "        Interferers = [i for i in range(M) if i!=m]\n",
    "        Devs = np.arange(m*M,(m+1)*M)\n",
    "        #print(Interferers, Devs)\n",
    "        InterfPowGains = PathGainsTot[np.ix_(Interferers, Devs)]\n",
    "        InterfPowsPerDev[m,] = np.sum(InterfPowGains, axis = 0)\n",
    "        #break\n",
    "\n",
    "    \n",
    "    SINRs = WantedSigPerDev/(InterfPowsPerDev + 1/gamma_0);\n",
    "    SINRsdB = 10*np.log10(SINRs)\n",
    "    MeansPerSubNW = np.mean(SINRsdB, axis = 1)\n",
    "    \n",
    "    DiffsFromMean = []\n",
    "    for i in range(len(MeansPerSubNW)):\n",
    "        diff = SINRsdB[i] - MeansPerSubNW[i]\n",
    "        DiffsFromMean.append(diff)\n",
    "    DiffsFromMean = np.array(DiffsFromMean)    \n",
    "    \n",
    "    all_SINRsdB[ts,:] = SINRsdB.flatten()\n",
    "    all_MeansPerSubNW[ts,:] = MeansPerSubNW.flatten()\n",
    "    all_DiffsFromMean[ts,:] = DiffsFromMean.flatten()\n",
    "    \n",
    "    #break"
   ]
  },
  {
   "cell_type": "code",
   "execution_count": 18,
   "id": "7338a3e1",
   "metadata": {},
   "outputs": [
    {
     "name": "stdout",
     "output_type": "stream",
     "text": [
      "25.95005617108837 25.950056171088367 -7.87281351222191e-18\n"
     ]
    },
    {
     "data": {
      "image/png": "[encoded data removed]",
      "text/plain": [
       "<Figure size 500x300 with 1 Axes>"
      ]
     },
     "metadata": {},
     "output_type": "display_data"
    }
   ],
   "source": [
    "a1, cdf1 = return_cdf(all_SINRsdB.flatten())\n",
    "a2, cdf2 = return_cdf(all_MeansPerSubNW.flatten())\n",
    "a3, cdf3 = return_cdf(all_DiffsFromMean.flatten())\n",
    "plt.figure(figsize= [5,3])\n",
    "plt.ylim(np.min(cdf2))\n",
    "plt.semilogy(a1, cdf1, label = r'$F(\\gamma)$')\n",
    "plt.semilogy(a2, cdf2 , label = r'$F(\\bar{\\gamma})$')\n",
    "plt.semilogy(a3, cdf3, label =  r'$F(\\gamma/\\bar{\\gamma}|\\bar{\\gamma})$')\n",
    "plt.grid()\n",
    "plt.xlabel('SINR(dB)')\n",
    "plt.ylabel('CDF(log scale)')\n",
    "plt.legend()\n",
    "print(np.mean(all_SINRsdB.flatten()), np.mean(all_MeansPerSubNW.flatten()), np.mean(all_DiffsFromMean.flatten()))"
   ]
  },
  {
   "cell_type": "code",
   "execution_count": 22,
   "id": "1f837edf",
   "metadata": {},
   "outputs": [
    {
     "data": {
      "image/png": "[encoded data removed]",
      "text/plain": [
       "<Figure size 640x480 with 1 Axes>"
      ]
     },
     "metadata": {},
     "output_type": "display_data"
    }
   ],
   "source": [
    "plt.plot(10*np.log10(ff_gains[0].flatten()[0:1000]))\n",
    "plt.show()"
   ]
  },
  {
   "cell_type": "code",
   "execution_count": null,
   "id": "a6f65e17",
   "metadata": {},
   "outputs": [],
   "source": []
  },
  {
   "cell_type": "code",
   "execution_count": null,
   "id": "8157b2a2",
   "metadata": {},
   "outputs": [],
   "source": [
    "'''\n",
    "path = 'C:\\\\Users\\\\sriniva3\\\\OneDrive - Aalto University\\\\Simulations\\\\RL framework URLLC\\\\Post_ICC2024_results'\n",
    "sinr_data_before_resource_schdule = {}\n",
    "sinr_data_before_resource_schdule['all_SINRsdB']  = all_SINRsdB.flatten()\n",
    "sinr_data_before_resource_schdule['all_MeansPerSubNW']  = all_MeansPerSubNW.flatten()\n",
    "sinr_data_before_resource_schdule['all_DiffsFromMean']  = all_DiffsFromMean.flatten()\n",
    "with open(os.path.join(path,'sinr_data_before_resource_schdule.pickle'), 'wb') as handle:\n",
    "    pickle.dump(sinr_data_before_resource_schdule, handle, protocol=pickle.HIGHEST_PROTOCOL)\n",
    "''';"
   ]
  },
  {
   "cell_type": "code",
   "execution_count": null,
   "id": "b71ec3a9",
   "metadata": {},
   "outputs": [],
   "source": []
  },
  {
   "cell_type": "code",
   "execution_count": null,
   "id": "af97ca3b",
   "metadata": {},
   "outputs": [],
   "source": [
    "############### Across N sub channels with universal frequency reuse 1 ###########\n",
    "N = 30\n",
    "all_SINRsdB, all_MeansPerSubNW, all_DiffsFromMean = np.zeros((Ts, M*J*N)), np.zeros((Ts, M)), np.zeros((Ts, M*J*N))\n",
    "for ts in range(Ts):\n",
    "    \n",
    "    FastFadingChannels = np.random.normal(0,1/np.sqrt(2), M*M*J*N) + 1j*np.random.normal(0,1/np.sqrt(2), M*M*J*N)\n",
    "    #FastFadingChannels = np.random.normal(0,1/np.sqrt(2), M*M*J) + 1j*np.random.normal(0,1/np.sqrt(2), M*M*J)\n",
    "    #FastFadingChannels = np.tile(FastFadingChannels, (N, 1, 1))\n",
    "    #FastFadingChannels/=np.sqrt(2)\n",
    "    FastFadingChannels = np.reshape(FastFadingChannels,(N,M,M*J))\n",
    "    FadingGains = np.abs(FastFadingChannels)**2\n",
    "    #### path loss ####\n",
    "    #alf, L0 = 2.55, 111.779\n",
    "    #PathLossesdB = L0 + 10*alf*np.log10(TxRxds[ts]/1000)\n",
    "    #PathGains = np.power(10, -PathLossesdB/10)\n",
    "    TxRxd = TxRxds[ts]\n",
    "    TxRxd = np.tile(TxRxd, (N, 1, 1))\n",
    "    \n",
    "    PL_los = 31.84 +21.5*np.log10(TxRxd) + 19*np.log10(f_c)\n",
    "    PL = 33+25.5*np.log10(TxRxd)+20*np.log10(f_c)\n",
    "    PL_nlos = np.max((PL_los, PL), axis = 0)\n",
    "    PathGains = np.power(10, -PL_nlos/10)\n",
    "    \n",
    "\n",
    "\n",
    "    ##### Compute total path gains ########\n",
    "    PathGainsTots = PathGains*FadingGains\n",
    "    SINRs_all_channels = []\n",
    "    for n in range(N):\n",
    "        PathGainsTot = PathGainsTots[n]\n",
    "        #### Compute WantedSigPerDev ######\n",
    "        WantedSigPerDev = np.zeros((M,J))\n",
    "        for m in range(M):\n",
    "            wanted_sig = PathGainsTot[m,m*M:(m+1)*M]\n",
    "            WantedSigPerDev[m] = wanted_sig\n",
    "\n",
    "        #### Compute InterfPowsPerDev ######\n",
    "        InterfPowsPerDev = np.zeros((M,J))\n",
    "        for m in range(M):\n",
    "            Interferers = [i for i in range(M) if i!=m]\n",
    "            Devs = np.arange(m*M,(m+1)*M)\n",
    "            #print(Interferers, Devs)\n",
    "            InterfPowGains = PathGainsTot[np.ix_(Interferers, Devs)]\n",
    "            InterfPowsPerDev[m,] = np.sum(InterfPowGains, axis = 0)\n",
    "            #break\n",
    "\n",
    "\n",
    "        SINRs = WantedSigPerDev/(InterfPowsPerDev + 1/gamma_0);\n",
    "        #SINRsdB = 10*np.log10(SINRs)\n",
    "        SINRs_all_channels.append(SINRs)\n",
    "    SINRs_all_channels = np.array(SINRs_all_channels)\n",
    "    #SINRs_all_channels = np.mean(SINRs_all_channels, axis = 0)\n",
    "    SINRsdB = 10*np.log10(SINRs_all_channels)\n",
    "    #MeansPerSubNW = np.mean(SINRsdB, axis = 1)\n",
    "    SINRsdB = np.transpose(SINRsdB, (1, 0, 2))\n",
    "    MeansPerSubNW = np.array([np.mean(SINRsdB[i].flatten()) for i in range(SINRsdB.shape[0])])\n",
    "    DiffsFromMean = []\n",
    "    for i in range(len(MeansPerSubNW)):\n",
    "        diff = SINRsdB[i] - MeansPerSubNW[i]\n",
    "        DiffsFromMean.append(diff)\n",
    "    DiffsFromMean = np.array(DiffsFromMean)  \n",
    "    all_SINRsdB[ts,:] = SINRsdB.flatten()\n",
    "    all_MeansPerSubNW[ts,:] = MeansPerSubNW.flatten()\n",
    "    all_DiffsFromMean[ts,:] = DiffsFromMean.flatten()\n",
    "    \n",
    "    #break"
   ]
  },
  {
   "cell_type": "code",
   "execution_count": null,
   "id": "c159d634",
   "metadata": {},
   "outputs": [],
   "source": [
    "a1, cdf1 = return_cdf(all_SINRsdB.flatten())\n",
    "a2, cdf2 = return_cdf(all_MeansPerSubNW.flatten())\n",
    "a3, cdf3 = return_cdf(all_DiffsFromMean.flatten())\n",
    "\n",
    "plt.ylim(np.min(cdf2))\n",
    "plt.semilogy(a1, cdf1, label = r'$F(\\gamma)$')\n",
    "plt.semilogy(a2, cdf2 , label = r'$F(\\bar{\\gamma})$')\n",
    "plt.semilogy(a3, cdf3, label =  r'$F(\\gamma/\\bar{\\gamma}|\\bar{\\gamma})$')\n",
    "plt.grid()\n",
    "plt.xlabel('SINR(dB)')\n",
    "plt.ylabel('CDF(log scale)')\n",
    "plt.legend()\n",
    "print(np.mean(all_SINRsdB.flatten()), np.mean(all_MeansPerSubNW.flatten()), np.mean(all_DiffsFromMean.flatten()))"
   ]
  },
  {
   "cell_type": "code",
   "execution_count": null,
   "id": "250585d4",
   "metadata": {},
   "outputs": [],
   "source": []
  },
  {
   "cell_type": "code",
   "execution_count": null,
   "id": "56fbdc26",
   "metadata": {},
   "outputs": [],
   "source": []
  },
  {
   "cell_type": "code",
   "execution_count": null,
   "id": "1825decc",
   "metadata": {},
   "outputs": [],
   "source": []
  },
  {
   "cell_type": "code",
   "execution_count": null,
   "id": "8a0ecd3a",
   "metadata": {},
   "outputs": [],
   "source": []
  },
  {
   "cell_type": "code",
   "execution_count": null,
   "id": "e60095ca",
   "metadata": {},
   "outputs": [],
   "source": []
  },
  {
   "cell_type": "code",
   "execution_count": null,
   "id": "469641ae",
   "metadata": {},
   "outputs": [],
   "source": []
  },
  {
   "cell_type": "code",
   "execution_count": null,
   "id": "fe2ed0b8",
   "metadata": {},
   "outputs": [],
   "source": []
  },
  {
   "cell_type": "code",
   "execution_count": null,
   "id": "0c495a16",
   "metadata": {},
   "outputs": [],
   "source": []
  },
  {
   "cell_type": "code",
   "execution_count": null,
   "id": "b6b0f6ef",
   "metadata": {},
   "outputs": [],
   "source": [
    "#SINRsdB = np.transpose(SINRsdB, (1, 0, 2))"
   ]
  },
  {
   "cell_type": "code",
   "execution_count": null,
   "id": "a7410cd0",
   "metadata": {},
   "outputs": [],
   "source": []
  },
  {
   "cell_type": "code",
   "execution_count": null,
   "id": "c06ede64",
   "metadata": {
    "scrolled": false
   },
   "outputs": [],
   "source": [
    "SINRs_all_channels = np.array(SINRs_all_channels)\n",
    "plt.hist(10*np.log10(SINRs_all_channels.flatten()), bins = 30)\n",
    "plt.show()"
   ]
  },
  {
   "cell_type": "code",
   "execution_count": null,
   "id": "6cd4d82f",
   "metadata": {},
   "outputs": [],
   "source": [
    "SINRs_all_channels = np.array(SINRs_all_channels)\n",
    "plt.hist(10*np.log10(SINRs_all_channels.flatten()), bins = 30)\n",
    "plt.show()"
   ]
  },
  {
   "cell_type": "code",
   "execution_count": null,
   "id": "2ff132cc",
   "metadata": {},
   "outputs": [],
   "source": [
    "    ##### Compute total path gains ########\n",
    "    PathGainsTots = PathGains*FadingGains\n",
    "    SINRs_all_channels = []\n",
    "    for n in range(1):\n",
    "        PathGainsTot = PathGainsTots[n]\n",
    "        #### Compute WantedSigPerDev ######\n",
    "        WantedSigPerDev = np.zeros((M,J))\n",
    "        for m in range(M):\n",
    "            wanted_sig = PathGainsTot[m,m*M:(m+1)*M]\n",
    "            WantedSigPerDev[m] = wanted_sig\n",
    "\n",
    "        #### Compute InterfPowsPerDev ######\n",
    "        InterfPowsPerDev = np.zeros((M,J))\n",
    "        for m in range(M):\n",
    "            Interferers = [i for i in range(M) if i!=m]\n",
    "            Devs = np.arange(m*M,(m+1)*M)\n",
    "            #print(Interferers, Devs)\n",
    "            InterfPowGains = PathGainsTot[np.ix_(Interferers, Devs)]\n",
    "            InterfPowsPerDev[m,] = np.sum(InterfPowGains, axis = 0)\n",
    "            #break\n",
    "\n",
    "\n",
    "        SINRs = WantedSigPerDev/(InterfPowsPerDev + 1/gamma_0);\n",
    "        #SINRsdB = 10*np.log10(SINRs)\n",
    "        SINRs_all_channels.append(SINRs)"
   ]
  },
  {
   "cell_type": "code",
   "execution_count": null,
   "id": "e6510703",
   "metadata": {},
   "outputs": [],
   "source": [
    "PathGainsTots.shape"
   ]
  },
  {
   "cell_type": "code",
   "execution_count": null,
   "id": "cf47fd40",
   "metadata": {},
   "outputs": [],
   "source": [
    "    TxRxd = TxRxds[ts]\n",
    "    TxRxd = np.tile(TxRxd, (N, 1, 1))\n",
    "    \n",
    "    PL_los = 31.84 +21.5*np.log10(TxRxd) + 19*np.log10(f_c)\n",
    "    PL = 33+25.5*np.log10(TxRxd)+20*np.log10(f_c)\n",
    "    PL_nlos = np.max((PL_los, PL), axis = 0)\n",
    "    PathGains = np.power(10, -PL_nlos/10)\n",
    "    print(TxRxd.shape, PathGains.shape)"
   ]
  },
  {
   "cell_type": "code",
   "execution_count": null,
   "id": "e7f11c11",
   "metadata": {},
   "outputs": [],
   "source": [
    "    FastFadingChannels = np.random.normal(0,1/np.sqrt(2), M*M*J*N) + 1j*np.random.normal(0,1/np.sqrt(2), M*M*J*N)\n",
    "    #FastFadingChannels/=np.sqrt(2)\n",
    "    FastFadingChannels = np.reshape(FastFadingChannels,(N,M,M*J))\n",
    "    FadingGains = np.abs(FastFadingChannels)**2\n",
    "    print(FadingGains.shape)"
   ]
  },
  {
   "cell_type": "code",
   "execution_count": null,
   "id": "a9143dbd",
   "metadata": {},
   "outputs": [],
   "source": []
  },
  {
   "cell_type": "code",
   "execution_count": null,
   "id": "161038a8",
   "metadata": {},
   "outputs": [],
   "source": [
    "    FastFadingChannels = np.random.normal(0,1/np.sqrt(2), M*M*J*N) + 1j*np.random.normal(0,1/np.sqrt(2), M*M*J*N)\n",
    "    #FastFadingChannels/=np.sqrt(2)\n",
    "    FastFadingChannels = np.reshape(FastFadingChannels,(N,M,M*J))\n",
    "    FadingGains = np.abs(FastFadingChannels)**2\n",
    "    #### path loss ####\n",
    "    #alf, L0 = 2.55, 111.779\n",
    "    #PathLossesdB = L0 + 10*alf*np.log10(TxRxds[ts]/1000)\n",
    "    #PathGains = np.power(10, -PathLossesdB/10)\n",
    "    TxRxd = TxRxds[ts]\n",
    "    TxRxd = np.tile(TxRxd, (N, 1, 1))\n",
    "    \n",
    "    PL_los = 31.84 +21.5*np.log10(TxRxd) + 19*np.log10(f_c)\n",
    "    PL = 33+25.5*np.log10(TxRxd)+20*np.log10(f_c)\n",
    "    PL_nlos = np.max((PL_los, PL), axis = 0)\n",
    "    PathGains = np.power(10, -PL_nlos/10)\n",
    "    \n",
    "\n",
    "\n",
    "    ##### Compute total path gains ########\n",
    "    PathGainsTots = PathGains*FadingGains\n",
    "    SINRs_all_channels = []\n",
    "    for n in range(N):\n",
    "        PathGainsTot = PathGainsTots[n]\n",
    "        #### Compute WantedSigPerDev ######\n",
    "        WantedSigPerDev = np.zeros((M,J))\n",
    "        for m in range(M):\n",
    "            wanted_sig = PathGainsTot[m,m*M:(m+1)*M]\n",
    "            WantedSigPerDev[m] = wanted_sig\n",
    "\n",
    "        #### Compute InterfPowsPerDev ######\n",
    "        InterfPowsPerDev = np.zeros((M,J))\n",
    "        for m in range(M):\n",
    "            Interferers = [i for i in range(M) if i!=m]\n",
    "            Devs = np.arange(m*M,(m+1)*M)\n",
    "            #print(Interferers, Devs)\n",
    "            InterfPowGains = PathGainsTot[np.ix_(Interferers, Devs)]\n",
    "            InterfPowsPerDev[m,] = np.sum(InterfPowGains, axis = 0)\n",
    "            #break\n",
    "\n",
    "\n",
    "        SINRs = WantedSigPerDev/(InterfPowsPerDev + 1/gamma_0);\n",
    "        #SINRsdB = 10*np.log10(SINRs)\n",
    "        SINRs_all_channels.append(SINRs)"
   ]
  },
  {
   "cell_type": "code",
   "execution_count": null,
   "id": "ca46a4a9",
   "metadata": {},
   "outputs": [],
   "source": []
  },
  {
   "cell_type": "code",
   "execution_count": null,
   "id": "81b72c51",
   "metadata": {},
   "outputs": [],
   "source": []
  },
  {
   "cell_type": "code",
   "execution_count": null,
   "id": "962b0889",
   "metadata": {},
   "outputs": [],
   "source": []
  },
  {
   "cell_type": "code",
   "execution_count": null,
   "id": "83c61f60",
   "metadata": {},
   "outputs": [],
   "source": [
    "np.mean(tmp[0])"
   ]
  },
  {
   "cell_type": "code",
   "execution_count": null,
   "id": "be551d94",
   "metadata": {},
   "outputs": [],
   "source": [
    "tmp = np.mean(SINRsdB, axis = 1)\n",
    "tmp.shape"
   ]
  },
  {
   "cell_type": "code",
   "execution_count": null,
   "id": "0edfbccd",
   "metadata": {},
   "outputs": [],
   "source": []
  },
  {
   "cell_type": "code",
   "execution_count": null,
   "id": "e6e363eb",
   "metadata": {},
   "outputs": [],
   "source": [
    "MeansPerSubNW = np.array([np.mean(SINRsdB[i].flatten()) for i in range(SINRsdB.shape[0])])\n",
    "MeansPerSubNW"
   ]
  },
  {
   "cell_type": "code",
   "execution_count": null,
   "id": "2f8297be",
   "metadata": {},
   "outputs": [],
   "source": [
    "SINRsdB.shape"
   ]
  },
  {
   "cell_type": "code",
   "execution_count": null,
   "id": "7707f3f7",
   "metadata": {},
   "outputs": [],
   "source": [
    "SINRsdB[i].shape"
   ]
  },
  {
   "cell_type": "code",
   "execution_count": null,
   "id": "eceb2460",
   "metadata": {},
   "outputs": [],
   "source": [
    "DiffsFromMean.shape"
   ]
  },
  {
   "cell_type": "code",
   "execution_count": null,
   "id": "245fcf70",
   "metadata": {},
   "outputs": [],
   "source": [
    "    DiffsFromMean = []\n",
    "    for i in range(len(MeansPerSubNW)):\n",
    "        diff = SINRsdB[i].flatten() - MeansPerSubNW[i]\n",
    "        DiffsFromMean.append(diff)\n",
    "    DiffsFromMean = np.array(DiffsFromMean)  "
   ]
  },
  {
   "cell_type": "code",
   "execution_count": null,
   "id": "c7d3c99b",
   "metadata": {},
   "outputs": [],
   "source": [
    "MeansPerSubNW.shape"
   ]
  },
  {
   "cell_type": "code",
   "execution_count": null,
   "id": "62584598",
   "metadata": {},
   "outputs": [],
   "source": [
    "    SINRsdB = np.transpose(SINRsdB, (1, 0, 2))\n",
    "    MeansPerSubNW = np.array([np.mean(SINRsdB[i].flatten()) for i in range(SINRsdB.shape[0])])\n",
    "    DiffsFromMean = []\n",
    "    for i in range(len(MeansPerSubNW)):\n",
    "        diff = SINRsdB[i].flatten() - MeansPerSubNW[i]\n",
    "        DiffsFromMean.append(diff)\n",
    "    DiffsFromMean = np.array(DiffsFromMean)  "
   ]
  },
  {
   "cell_type": "code",
   "execution_count": null,
   "id": "a57d66ee",
   "metadata": {},
   "outputs": [],
   "source": []
  },
  {
   "cell_type": "code",
   "execution_count": null,
   "id": "6e811402",
   "metadata": {},
   "outputs": [],
   "source": []
  },
  {
   "cell_type": "code",
   "execution_count": null,
   "id": "01516e05",
   "metadata": {},
   "outputs": [],
   "source": []
  },
  {
   "cell_type": "code",
   "execution_count": null,
   "id": "444d2553",
   "metadata": {},
   "outputs": [],
   "source": []
  },
  {
   "cell_type": "code",
   "execution_count": null,
   "id": "c7af1ee6",
   "metadata": {},
   "outputs": [],
   "source": []
  },
  {
   "cell_type": "code",
   "execution_count": null,
   "id": "2b741156",
   "metadata": {},
   "outputs": [],
   "source": []
  },
  {
   "cell_type": "code",
   "execution_count": null,
   "id": "2465cb37",
   "metadata": {},
   "outputs": [],
   "source": []
  },
  {
   "cell_type": "code",
   "execution_count": null,
   "id": "08e601d5",
   "metadata": {},
   "outputs": [],
   "source": []
  },
  {
   "cell_type": "code",
   "execution_count": null,
   "id": "b58d74f6",
   "metadata": {},
   "outputs": [],
   "source": []
  },
  {
   "cell_type": "code",
   "execution_count": null,
   "id": "84909906",
   "metadata": {},
   "outputs": [],
   "source": []
  },
  {
   "cell_type": "code",
   "execution_count": null,
   "id": "a2727483",
   "metadata": {},
   "outputs": [],
   "source": []
  },
  {
   "cell_type": "code",
   "execution_count": null,
   "id": "5d1d1da6",
   "metadata": {},
   "outputs": [],
   "source": []
  },
  {
   "cell_type": "code",
   "execution_count": null,
   "id": "b8cbd7f0",
   "metadata": {},
   "outputs": [],
   "source": []
  },
  {
   "cell_type": "code",
   "execution_count": null,
   "id": "1c2aeb94",
   "metadata": {},
   "outputs": [],
   "source": []
  },
  {
   "cell_type": "code",
   "execution_count": null,
   "id": "d2b2531f",
   "metadata": {},
   "outputs": [],
   "source": [
    "TxRxds.shape"
   ]
  },
  {
   "cell_type": "code",
   "execution_count": null,
   "id": "776cd651",
   "metadata": {},
   "outputs": [],
   "source": [
    "PathGainsTots.shape"
   ]
  },
  {
   "cell_type": "code",
   "execution_count": null,
   "id": "5ef7bc9e",
   "metadata": {},
   "outputs": [],
   "source": []
  },
  {
   "cell_type": "code",
   "execution_count": null,
   "id": "80318a87",
   "metadata": {},
   "outputs": [],
   "source": [
    "plt.hist(all_SINRsdB.flatten(), bins = 30)\n",
    "plt.show()"
   ]
  },
  {
   "cell_type": "code",
   "execution_count": null,
   "id": "5b6141c9",
   "metadata": {},
   "outputs": [],
   "source": []
  },
  {
   "cell_type": "code",
   "execution_count": null,
   "id": "ff7d84a6",
   "metadata": {},
   "outputs": [],
   "source": [
    "a1, cdf1 = return_cdf(all_SINRsdB.flatten())\n",
    "a2, cdf2 = return_cdf(all_MeansPerSubNW.flatten())\n",
    "a3, cdf3 = return_cdf(all_DiffsFromMean.flatten())\n",
    "\n",
    "plt.ylim(np.min(cdf2))\n",
    "plt.semilogy(a1, cdf1, label = r'$F(\\gamma)$')\n",
    "plt.semilogy(a2, cdf2 , label = r'$F(\\bar{\\gamma})$')\n",
    "plt.semilogy(a3, cdf3, label =  r'$F(\\gamma/\\bar{\\gamma}|\\bar{\\gamma})$')\n",
    "plt.grid()\n",
    "plt.xlabel('SINR(dB)')\n",
    "plt.ylabel('CDF(log scale)')\n",
    "plt.legend()\n",
    "print(np.mean(all_SINRsdB.flatten()), np.mean(all_MeansPerSubNW.flatten()), np.mean(all_DiffsFromMean.flatten()))"
   ]
  },
  {
   "cell_type": "code",
   "execution_count": null,
   "id": "a2d06154",
   "metadata": {},
   "outputs": [],
   "source": [
    "############### Across N sub channels with universal frequency reuse 1 ###########\n",
    "N = 1\n",
    "all_SINRsdB, all_MeansPerSubNW, all_DiffsFromMean = np.zeros((Ts, M*J)), np.zeros((Ts, M)), np.zeros((Ts, M*J))\n",
    "for ts in range(Ts):\n",
    "    \n",
    "    FastFadingChannels = np.random.normal(0,1/np.sqrt(2), M*M*J*N) + 1j*np.random.normal(0,1/np.sqrt(2), M*M*J*N)\n",
    "    #FastFadingChannels = np.random.normal(0,1/np.sqrt(2), M*M*J) + 1j*np.random.normal(0,1/np.sqrt(2), M*M*J)\n",
    "    #FastFadingChannels = np.tile(FastFadingChannels, (N, 1, 1))\n",
    "    #FastFadingChannels/=np.sqrt(2)\n",
    "    FastFadingChannels = np.reshape(FastFadingChannels,(N,M,M*J))\n",
    "    FadingGains = np.abs(FastFadingChannels)**2\n",
    "    #### path loss ####\n",
    "    #alf, L0 = 2.55, 111.779\n",
    "    #PathLossesdB = L0 + 10*alf*np.log10(TxRxds[ts]/1000)\n",
    "    #PathGains = np.power(10, -PathLossesdB/10)\n",
    "    TxRxd = TxRxds[ts]\n",
    "    TxRxd = np.tile(TxRxd, (N, 1, 1))\n",
    "    \n",
    "    PL_los = 31.84 +21.5*np.log10(TxRxd) + 19*np.log10(f_c)\n",
    "    PL = 33+25.5*np.log10(TxRxd)+20*np.log10(f_c)\n",
    "    PL_nlos = np.max((PL_los, PL), axis = 0)\n",
    "    PathGains = np.power(10, -PL_nlos/10)\n",
    "    \n",
    "\n",
    "\n",
    "    ##### Compute total path gains ########\n",
    "    PathGainsTots = PathGains*FadingGains\n",
    "    SINRs_all_channels = []\n",
    "    for n in range(N):\n",
    "        PathGainsTot = PathGainsTots[n]\n",
    "        #### Compute WantedSigPerDev ######\n",
    "        WantedSigPerDev = np.zeros((M,J))\n",
    "        for m in range(M):\n",
    "            wanted_sig = PathGainsTot[m,m*M:(m+1)*M]\n",
    "            WantedSigPerDev[m] = wanted_sig\n",
    "\n",
    "        #### Compute InterfPowsPerDev ######\n",
    "        InterfPowsPerDev = np.zeros((M,J))\n",
    "        for m in range(M):\n",
    "            Interferers = [i for i in range(M) if i!=m]\n",
    "            Devs = np.arange(m*M,(m+1)*M)\n",
    "            #print(Interferers, Devs)\n",
    "            InterfPowGains = PathGainsTot[np.ix_(Interferers, Devs)]\n",
    "            InterfPowsPerDev[m,] = np.sum(InterfPowGains, axis = 0)\n",
    "            #break\n",
    "\n",
    "\n",
    "        SINRs = WantedSigPerDev/(InterfPowsPerDev + 1/gamma_0);\n",
    "        #SINRsdB = 10*np.log10(SINRs)\n",
    "        SINRs_all_channels.append(SINRs)\n",
    "    SINRs_all_channels = np.array(SINRs_all_channels)\n",
    "    SINRs_all_channels = np.mean(SINRs_all_channels, axis = 0)\n",
    "    SINRsdB = 10*np.log10(SINRs_all_channels)\n",
    "    MeansPerSubNW = np.mean(SINRsdB, axis = 1)\n",
    "    \n",
    "    DiffsFromMean = []\n",
    "    for i in range(len(MeansPerSubNW)):\n",
    "        diff = SINRsdB[i] - MeansPerSubNW[i]\n",
    "        DiffsFromMean.append(diff)\n",
    "    DiffsFromMean = np.array(DiffsFromMean)    \n",
    "    \n",
    "    all_SINRsdB[ts,:] = SINRsdB.flatten()\n",
    "    all_MeansPerSubNW[ts,:] = MeansPerSubNW.flatten()\n",
    "    all_DiffsFromMean[ts,:] = DiffsFromMean.flatten()\n",
    "    \n",
    "    #break"
   ]
  },
  {
   "cell_type": "code",
   "execution_count": null,
   "id": "6bb15072",
   "metadata": {},
   "outputs": [],
   "source": [
    "np.mean(SINRsdB[4].flatten())"
   ]
  },
  {
   "cell_type": "code",
   "execution_count": null,
   "id": "a494efad",
   "metadata": {},
   "outputs": [],
   "source": [
    "MeansPerSubNW"
   ]
  },
  {
   "cell_type": "code",
   "execution_count": null,
   "id": "ea5c0d90",
   "metadata": {},
   "outputs": [],
   "source": [
    "mean_array = np.mean(transposed_array, axis=0)\n",
    "mean_array.shape"
   ]
  },
  {
   "cell_type": "code",
   "execution_count": null,
   "id": "d1ae0170",
   "metadata": {},
   "outputs": [],
   "source": [
    "original_array = np.random.rand(30, 5, 5)  # Fill it with random numbers for the example\n",
    "\n",
    "# Transposing the array to the desired shape (5, 30, 5)\n",
    "transposed_array = np.transpose(original_array, (1, 0, 2))\n",
    "transposed_array.shape"
   ]
  },
  {
   "cell_type": "code",
   "execution_count": null,
   "id": "95c5fe97",
   "metadata": {},
   "outputs": [],
   "source": []
  },
  {
   "cell_type": "code",
   "execution_count": null,
   "id": "bed77aed",
   "metadata": {},
   "outputs": [],
   "source": []
  },
  {
   "cell_type": "code",
   "execution_count": null,
   "id": "799d5a2f",
   "metadata": {},
   "outputs": [],
   "source": []
  },
  {
   "cell_type": "code",
   "execution_count": null,
   "id": "cd165401",
   "metadata": {},
   "outputs": [],
   "source": [
    "a1, cdf1 = return_cdf(all_SINRsdB.flatten())\n",
    "a2, cdf2 = return_cdf(all_MeansPerSubNW.flatten())\n",
    "a3, cdf3 = return_cdf(all_DiffsFromMean.flatten())\n",
    "\n",
    "plt.ylim(np.min(cdf2))\n",
    "plt.semilogy(a1, cdf1, label = r'$F(\\gamma)$')\n",
    "plt.semilogy(a2, cdf2 , label = r'$F(\\bar{\\gamma})$')\n",
    "plt.semilogy(a3, cdf3, label =  r'$F(\\gamma/\\bar{\\gamma}|\\bar{\\gamma})$')\n",
    "plt.grid()\n",
    "plt.xlabel('SINR(dB)')\n",
    "plt.ylabel('CDF(log scale)')\n",
    "plt.legend()\n",
    "print(np.mean(all_SINRsdB.flatten()), np.mean(all_MeansPerSubNW.flatten()), np.mean(all_DiffsFromMean.flatten()))"
   ]
  },
  {
   "cell_type": "code",
   "execution_count": null,
   "id": "8e021408",
   "metadata": {},
   "outputs": [],
   "source": []
  },
  {
   "cell_type": "code",
   "execution_count": null,
   "id": "85bc4f40",
   "metadata": {},
   "outputs": [],
   "source": [
    "Interferers, Devs"
   ]
  },
  {
   "cell_type": "code",
   "execution_count": null,
   "id": "96faf560",
   "metadata": {},
   "outputs": [],
   "source": []
  },
  {
   "cell_type": "code",
   "execution_count": null,
   "id": "df87ae3e",
   "metadata": {},
   "outputs": [],
   "source": []
  },
  {
   "cell_type": "code",
   "execution_count": null,
   "id": "9cedd5ed",
   "metadata": {},
   "outputs": [],
   "source": [
    "np.min(InterfPowGains,axis = 1).shape"
   ]
  },
  {
   "cell_type": "code",
   "execution_count": null,
   "id": "4dcadf45",
   "metadata": {
    "scrolled": true
   },
   "outputs": [],
   "source": [
    "PathGainsTot"
   ]
  },
  {
   "cell_type": "code",
   "execution_count": null,
   "id": "4fe90648",
   "metadata": {},
   "outputs": [],
   "source": [
    "    InterfPowsPerDev = np.zeros((M,J))\n",
    "    for m in range(M):\n",
    "        Interferers = [i for i in range(M) if i!=m]\n",
    "        Devs = np.arange(m*M,(m+1)*M)\n",
    "        #print(Interferers, Devs)\n",
    "        InterfPowGains = PathGainsTot[np.ix_(Interferers, Devs)]\n",
    "        InterfPowsPerDev[m,] = np.sum(InterfPowGains, axis = 0)\n",
    "        break"
   ]
  },
  {
   "cell_type": "code",
   "execution_count": null,
   "id": "282c8dc2",
   "metadata": {},
   "outputs": [],
   "source": [
    "    ############ fast fading coeffecients ########\n",
    "    FastFadingChannels = np.random.normal(0,1/np.sqrt(2), M*M*J) + 1j*np.random.normal(0,1/np.sqrt(2), M*M*J)\n",
    "    #FastFadingChannels/=np.sqrt(2)\n",
    "    FastFadingChannels = np.reshape(FastFadingChannels,(M,M*J))\n",
    "    FadingGains = np.abs(FastFadingChannels)**2\n",
    "    #### path loss ####\n",
    "    #alf, L0 = 2.55, 111.779\n",
    "    #PathLossesdB = L0 + 10*alf*np.log10(TxRxds[ts]/1000)\n",
    "    #PathGains = np.power(10, -PathLossesdB/10)\n",
    "    \n",
    "    PL_los = 31.84 +21.5*np.log10(TxRxds[ts]) + 19*np.log10(f_c)\n",
    "    PL = 33+25.5*np.log10(TxRxds[ts])+20*np.log10(f_c)\n",
    "    PL_nlos = np.max((PL_los, PL), axis = 0)\n",
    "    PathGains = np.power(10, -PL_nlos/10)\n",
    "    \n",
    "\n",
    "\n",
    "    ##### Compute total path gains ########\n",
    "    PathGainsTot = PathGains*FadingGains\n",
    "    \n",
    "    #### Compute WantedSigPerDev ######\n",
    "    WantedSigPerDev = np.zeros((M,J))\n",
    "    for m in range(M):\n",
    "        wanted_sig = PathGainsTot[m,m*M:(m+1)*M]\n",
    "        WantedSigPerDev[m] = wanted_sig\n",
    "\n",
    "    #### Compute InterfPowsPerDev ######\n",
    "    InterfPowsPerDev = np.zeros((M,J))\n",
    "    for m in range(M):\n",
    "        Interferers = [i for i in range(M) if i!=m]\n",
    "        Devs = np.arange(m*M,(m+1)*M)\n",
    "        #print(Interferers, Devs)\n",
    "        InterfPowGains = PathGainsTot[np.ix_(Interferers, Devs)]\n",
    "        InterfPowGains = np.min(InterfPowGains,axis = 0)\n",
    "        InterfPowsPerDev[m,] = InterfPowGains\n",
    "        #break\n",
    "\n",
    "    \n",
    "    SINRs = WantedSigPerDev/(InterfPowsPerDev + 1/gamma_0);"
   ]
  },
  {
   "cell_type": "code",
   "execution_count": null,
   "id": "40d9aad3",
   "metadata": {},
   "outputs": [],
   "source": []
  },
  {
   "cell_type": "code",
   "execution_count": null,
   "id": "cbb89c6f",
   "metadata": {},
   "outputs": [],
   "source": [
    "a1, cdf1 = return_cdf(all_SINRsdB.flatten())\n",
    "a2, cdf2 = return_cdf(all_MeansPerSubNW.flatten())\n",
    "a3, cdf3 = return_cdf(all_DiffsFromMean.flatten())\n",
    "\n",
    "plt.ylim(np.min(cdf2))\n",
    "plt.semilogy(a1, cdf1, label = r'$F(\\gamma)$')\n",
    "plt.semilogy(a2, cdf2 , label = r'$F(\\bar{\\gamma})$')\n",
    "plt.semilogy(a3, cdf3, label =  r'$F(\\gamma/\\bar{\\gamma}|\\bar{\\gamma})$')\n",
    "plt.grid()\n",
    "plt.xlabel('SINR(dB)')\n",
    "plt.ylabel('CDF(log scale)')\n",
    "plt.legend()\n",
    "print(np.mean(all_SINRsdB.flatten()), np.mean(all_MeansPerSubNW.flatten()), np.mean(all_DiffsFromMean.flatten()))"
   ]
  },
  {
   "cell_type": "code",
   "execution_count": null,
   "id": "f50dd720",
   "metadata": {},
   "outputs": [],
   "source": [
    "############# SINR before resource scheduling for greedy strategy ###############\n",
    "all_SINRsdB, all_MeansPerSubNW, all_DiffsFromMean = np.zeros((Ts, M*J)), np.zeros((Ts, M)), np.zeros((Ts, M*J))\n",
    "for ts in range(Ts):\n",
    "    \n",
    "    ############ fast fading coeffecients ########\n",
    "    FastFadingChannels = np.random.normal(0,1/np.sqrt(2), M*M*J) + 1j*np.random.normal(0,1/np.sqrt(2), M*M*J)\n",
    "    #FastFadingChannels/=np.sqrt(2)\n",
    "    FastFadingChannels = np.reshape(FastFadingChannels,(M,M*J))\n",
    "    FadingGains = np.abs(FastFadingChannels)**2\n",
    "    #### path loss ####\n",
    "    #alf, L0 = 2.55, 111.779\n",
    "    #PathLossesdB = L0 + 10*alf*np.log10(TxRxds[ts]/1000)\n",
    "    #PathGains = np.power(10, -PathLossesdB/10)\n",
    "    \n",
    "    PL_los = 31.84 +21.5*np.log10(TxRxds[ts]) + 19*np.log10(f_c)\n",
    "    PL = 33+25.5*np.log10(TxRxds[ts])+20*np.log10(f_c)\n",
    "    PL_nlos = np.max((PL_los, PL), axis = 0)\n",
    "    PathGains = np.power(10, -PL_nlos/10)\n",
    "    \n",
    "\n",
    "\n",
    "    ##### Compute total path gains ########\n",
    "    PathGainsTot = PathGains*FadingGains\n",
    "    \n",
    "    #### Compute WantedSigPerDev ######\n",
    "    WantedSigPerDev = np.zeros((M,J))\n",
    "    for m in range(M):\n",
    "        wanted_sig = PathGainsTot[m,m*M:(m+1)*M]\n",
    "        WantedSigPerDev[m] = wanted_sig\n",
    "\n",
    "    #### Compute InterfPowsPerDev ######\n",
    "    InterfPowsPerDev = np.zeros((M,J))\n",
    "    for m in range(M):\n",
    "        Interferers = [i for i in range(M) if i!=m]\n",
    "        Devs = np.arange(m*M,(m+1)*M)\n",
    "        #print(Interferers, Devs)\n",
    "        InterfPowGains = PathGainsTot[np.ix_(Interferers, Devs)]\n",
    "        InterfPowGains = np.mean(InterfPowGains,axis = 0)\n",
    "        InterfPowsPerDev[m,] = InterfPowGains\n",
    "        #break\n",
    "\n",
    "    \n",
    "    SINRs = WantedSigPerDev/(InterfPowsPerDev + 1/gamma_0);\n",
    "    SINRsdB = 10*np.log10(SINRs)\n",
    "    MeansPerSubNW = np.mean(SINRsdB, axis = 1)\n",
    "    \n",
    "    DiffsFromMean = []\n",
    "    for i in range(len(MeansPerSubNW)):\n",
    "        diff = SINRsdB[i] - MeansPerSubNW[i]\n",
    "        DiffsFromMean.append(diff)\n",
    "    DiffsFromMean = np.array(DiffsFromMean)    \n",
    "    \n",
    "    all_SINRsdB[ts,:] = SINRsdB.flatten()\n",
    "    all_MeansPerSubNW[ts,:] = MeansPerSubNW.flatten()\n",
    "    all_DiffsFromMean[ts,:] = DiffsFromMean.flatten()\n",
    "    \n",
    "    #break"
   ]
  },
  {
   "cell_type": "code",
   "execution_count": null,
   "id": "548c27c6",
   "metadata": {},
   "outputs": [],
   "source": [
    "TxRxd"
   ]
  },
  {
   "cell_type": "code",
   "execution_count": null,
   "id": "eacfc359",
   "metadata": {},
   "outputs": [],
   "source": [
    "#### Compute WantedSigPerDev ######\n",
    "    WantedSigPerDev = np.zeros((M,J))\n",
    "    for m in range(M):\n",
    "        wanted_sig = PathGainsTot[m,m*M:(m+1)*M]\n",
    "        WantedSigPerDev[m] = wanted_sig\n",
    "\n",
    "    #### Compute InterfPowsPerDev ######\n",
    "    InterfPowsPerDev = np.zeros((M,J))\n",
    "    for m in range(M):\n",
    "        Interferers = [i for i in range(M) if i!=m]\n",
    "        Devs = np.arange(m*M,(m+1)*M)\n",
    "        #print(Interferers, Devs)\n",
    "        InterfPowGains = PathGainsTot[np.ix_(Interferers, Devs)]\n",
    "        InterfPowsPerDev[m,] = np.sum(InterfPowGains, axis = 0)\n",
    "        #break\n",
    "\n",
    "    \n",
    "    SINRs = WantedSigPerDev/(InterfPowsPerDev + 1/gamma_0);\n",
    "    SINRsdB = 10*np.log10(SINRs)"
   ]
  },
  {
   "cell_type": "code",
   "execution_count": null,
   "id": "0b50a4dc",
   "metadata": {},
   "outputs": [],
   "source": []
  },
  {
   "cell_type": "code",
   "execution_count": null,
   "id": "735c1c95",
   "metadata": {},
   "outputs": [],
   "source": []
  },
  {
   "cell_type": "code",
   "execution_count": null,
   "id": "13e92d90",
   "metadata": {},
   "outputs": [],
   "source": [
    "    ############ fast fading coeffecients ########\n",
    "    N = 30\n",
    "    FastFadingChannels = np.random.normal(0,1/np.sqrt(2), M*M*J*N) + 1j*np.random.normal(0,1/np.sqrt(2), M*M*J*N)\n",
    "    #FastFadingChannels/=np.sqrt(2)\n",
    "    FastFadingChannels = np.reshape(FastFadingChannels,(N,M,M*J))\n",
    "    FadingGains = np.abs(FastFadingChannels)**2\n",
    "    #### path loss ####\n",
    "    #alf, L0 = 2.55, 111.779\n",
    "    #PathLossesdB = L0 + 10*alf*np.log10(TxRxds[ts]/1000)\n",
    "    #PathGains = np.power(10, -PathLossesdB/10)\n",
    "    TxRxd = TxRxds[ts]\n",
    "    TxRxd = np.tile(TxRxd, (N, 1, 1))\n",
    "    \n",
    "    PL_los = 31.84 +21.5*np.log10(TxRxd) + 19*np.log10(f_c)\n",
    "    PL = 33+25.5*np.log10(TxRxd)+20*np.log10(f_c)\n",
    "    PL_nlos = np.max((PL_los, PL), axis = 0)\n",
    "    PathGains = np.power(10, -PL_nlos/10)\n",
    "    \n",
    "\n",
    "\n",
    "    ##### Compute total path gains ########\n",
    "    PathGainsTots = PathGains*FadingGains\n",
    "    SINRs_all_channels = []\n",
    "    for n in range(N):\n",
    "        PathGainsTot = PathGainsTots[n]\n",
    "        #### Compute WantedSigPerDev ######\n",
    "        WantedSigPerDev = np.zeros((M,J))\n",
    "        for m in range(M):\n",
    "            wanted_sig = PathGainsTot[m,m*M:(m+1)*M]\n",
    "            WantedSigPerDev[m] = wanted_sig\n",
    "\n",
    "        #### Compute InterfPowsPerDev ######\n",
    "        InterfPowsPerDev = np.zeros((M,J))\n",
    "        for m in range(M):\n",
    "            Interferers = [i for i in range(M) if i!=m]\n",
    "            Devs = np.arange(m*M,(m+1)*M)\n",
    "            #print(Interferers, Devs)\n",
    "            InterfPowGains = PathGainsTot[np.ix_(Interferers, Devs)]\n",
    "            InterfPowsPerDev[m,] = np.sum(InterfPowGains, axis = 0)\n",
    "            #break\n",
    "\n",
    "\n",
    "        SINRs = WantedSigPerDev/(InterfPowsPerDev + 1/gamma_0);\n",
    "        #SINRsdB = 10*np.log10(SINRs)\n",
    "        SINRs_all_channels.append(SINRs)\n",
    "    SINRs_all_channels = np.array(SINRs_all_channels)\n",
    "    SINRs_all_channels = np.sum(SINRs_all_channels, axis = 0)\n",
    "    SINRsdB = 10*np.log10(SINRs_all_channels)"
   ]
  },
  {
   "cell_type": "code",
   "execution_count": null,
   "id": "68f9865b",
   "metadata": {},
   "outputs": [],
   "source": []
  },
  {
   "cell_type": "code",
   "execution_count": null,
   "id": "2c88c307",
   "metadata": {},
   "outputs": [],
   "source": [
    "InterfPowGains = PathGainsTot[np.ix_(Interferers, Devs)]\n",
    "np.sum(InterfPowGains, axis = 0)"
   ]
  },
  {
   "cell_type": "code",
   "execution_count": null,
   "id": "66ce6910",
   "metadata": {},
   "outputs": [],
   "source": []
  },
  {
   "cell_type": "code",
   "execution_count": null,
   "id": "e6fdb2bf",
   "metadata": {},
   "outputs": [],
   "source": []
  },
  {
   "cell_type": "code",
   "execution_count": null,
   "id": "d2705a54",
   "metadata": {},
   "outputs": [],
   "source": []
  },
  {
   "cell_type": "code",
   "execution_count": null,
   "id": "dec2c900",
   "metadata": {},
   "outputs": [],
   "source": []
  },
  {
   "cell_type": "code",
   "execution_count": null,
   "id": "2021a669",
   "metadata": {},
   "outputs": [],
   "source": [
    "DiffsFromMean.shape"
   ]
  },
  {
   "cell_type": "code",
   "execution_count": null,
   "id": "fdf62b17",
   "metadata": {},
   "outputs": [],
   "source": [
    "DiffsFromMean = []\n",
    "for i in range(len(MeansPerSubNW)):\n",
    "    diff = SINRsdB[i] - MeansPerSubNW[i]\n",
    "    DiffsFromMean.append(diff)\n",
    "DiffsFromMean = np.array(DiffsFromMean)"
   ]
  },
  {
   "cell_type": "code",
   "execution_count": null,
   "id": "97601287",
   "metadata": {},
   "outputs": [],
   "source": [
    "MeansPerSubNW"
   ]
  },
  {
   "cell_type": "code",
   "execution_count": null,
   "id": "5b67ea8c",
   "metadata": {},
   "outputs": [],
   "source": [
    "SINRs = WantedSigPerDev/(InterfPowsPerDev + 1/gamma_0);\n",
    "SINRsdB = 10*np.log10(SINRs)\n",
    "MeansPerSubNW = np.mean(SINRsdB, axis = 1)"
   ]
  },
  {
   "cell_type": "code",
   "execution_count": null,
   "id": "7a73f725",
   "metadata": {},
   "outputs": [],
   "source": [
    "#### Compute WantedSigPerDev ######\n",
    "WantedSigPerDev = np.zeros((M,J))\n",
    "for m in range(M):\n",
    "    wanted_sig = PathGainsTot[m,m*M:(m+1)*M]\n",
    "    WantedSigPerDev[m] = wanted_sig\n",
    "\n",
    "#### Compute InterfPowsPerDev ######\n",
    "InterfPowsPerDev = np.zeros((M,J))\n",
    "for m in range(M):\n",
    "    Interferers = [i for i in range(M) if i!=m]\n",
    "    Devs = np.arange(m*M,(m+1)*M)\n",
    "    #print(Interferers, Devs)\n",
    "    InterfPowGains = PathGainsTot[np.ix_(Interferers, Devs)]\n",
    "    InterfPowsPerDev[m,] = np.sum(InterfPowGains, axis = 0)\n",
    "    #break\n"
   ]
  },
  {
   "cell_type": "code",
   "execution_count": null,
   "id": "ecaaa39a",
   "metadata": {
    "scrolled": true
   },
   "outputs": [],
   "source": [
    "plt.hist(PathGainsTot.flatten(), bins = 30)"
   ]
  },
  {
   "cell_type": "code",
   "execution_count": null,
   "id": "a95b2acc",
   "metadata": {
    "scrolled": true
   },
   "outputs": [],
   "source": [
    "#'''\n",
    "with open('PathGainsTot.json', 'r') as file:\n",
    "    PathGainsTot = json.load(file)\n",
    "PathGainsTot = np.array(PathGainsTot)    \n",
    "#''';"
   ]
  },
  {
   "cell_type": "code",
   "execution_count": null,
   "id": "3b0c58d7",
   "metadata": {},
   "outputs": [],
   "source": [
    "'''\n",
    "all_txrxds = TxRxds.flatten()\n",
    "inds = np.where(all_txrxds>=1.0)\n",
    "all_txrxds = all_txrxds[inds]\n",
    "plt.hist(TxRxds.flatten(), bins = 30)\n",
    "plt.show()\n",
    "''';"
   ]
  },
  {
   "cell_type": "code",
   "execution_count": null,
   "id": "e3646ffd",
   "metadata": {},
   "outputs": [],
   "source": []
  },
  {
   "cell_type": "code",
   "execution_count": null,
   "id": "6e44cfde",
   "metadata": {},
   "outputs": [],
   "source": []
  },
  {
   "cell_type": "code",
   "execution_count": null,
   "id": "3f734510",
   "metadata": {},
   "outputs": [],
   "source": []
  },
  {
   "cell_type": "code",
   "execution_count": null,
   "id": "449f577f",
   "metadata": {},
   "outputs": [],
   "source": []
  },
  {
   "cell_type": "code",
   "execution_count": null,
   "id": "8ba5cb45",
   "metadata": {},
   "outputs": [],
   "source": []
  },
  {
   "cell_type": "code",
   "execution_count": null,
   "id": "eef6f10a",
   "metadata": {},
   "outputs": [],
   "source": []
  },
  {
   "cell_type": "code",
   "execution_count": null,
   "id": "ca97ba35",
   "metadata": {},
   "outputs": [],
   "source": [
    "#plt.hist(PathGainsTot.flatten(), bins = 30)"
   ]
  },
  {
   "cell_type": "code",
   "execution_count": null,
   "id": "d95f12b7",
   "metadata": {},
   "outputs": [],
   "source": [
    "############ fast fading coeffecients ########\n",
    "FastFadingChannels = np.random.normal(0,1/np.sqrt(2), M*M*J) + 1j*np.random.normal(0,1/np.sqrt(2), M*M*J)\n",
    "#FastFadingChannels/=np.sqrt(2)\n",
    "FastFadingChannels = np.reshape(FastFadingChannels,(M,M*J))\n",
    "\n",
    "#### path loss ####\n",
    "alf, L0 = 2.55, 111.779\n",
    "PathLossesdB = L0 + 10*alf*np.log10(TxRxds[0]/1000)\n",
    "PathGains = np.power(10, -PathLossesdB/10)\n",
    "FadingGains = np.abs(FastFadingChannels)**2\n",
    "\n",
    "\n",
    "##### Compute total path gains ########\n",
    "PathGainsTot = PathGains*FadingGains"
   ]
  }
 ],
 "metadata": {
  "kernelspec": {
   "display_name": "Python 3 (ipykernel)",
   "language": "python",
   "name": "python3"
  },
  "language_info": {
   "codemirror_mode": {
    "name": "ipython",
    "version": 3
   },
   "file_extension": ".py",
   "mimetype": "text/x-python",
   "name": "python",
   "nbconvert_exporter": "python",
   "pygments_lexer": "ipython3",
   "version": "3.11.4"
  }
 },
 "nbformat": 4,
 "nbformat_minor": 5
}
